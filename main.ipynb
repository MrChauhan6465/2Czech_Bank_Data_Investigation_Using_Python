{
 "cells": [
  {
   "cell_type": "markdown",
   "metadata": {},
   "source": [
    "Czech Bank Data Investigation 💼"
   ]
  },
  {
   "cell_type": "markdown",
   "metadata": {},
   "source": [
    "\n",
    "Practice Exercise: Cleaning data & Transforming columns/features\n",
    "Context:\n",
    "• The data is based on real anonymized Czech bank transactions and account info.\n",
    "• We'll be focusing on practicing the data cleaning, columns transformations, and other techniques that we've learned in the course.\n",
    "⚫ \n",
    "But here is the original task description of the dataset publishers:\n",
    "The bank wants to improve their services. For instance, the bank managers have only vague idea, who is a good client (whom to offer some additional services) and who is a bad client (whom to watch carefully to minimize the bank losses). Fortunately, the bank stores data about their clients, the accounts (transactions within several months), the loans already granted, the credit cards issued. The bank managers hope to improve their understanding of customers and seek specific actions to improve services.\n",
    "• We've made minor changes on the data to fit this exercise, such as changing the column names. Check out the original source if you are interested in using this data for other purposes (https://data.world/lpetrocelli/czech-financial-dataset-real-anonymized-transactions)\n",
    "\n",
    "Dataset Description:\n",
    "We'll work on three datasets (in three separate csv files):\n",
    "⚫ account: each record describes static characteristics of an account\n",
    "⚫ transaction: each record describes one transaction on an account\n",
    "⚫ district: each record describes demographic characteristics of a district\n",
    "In reality, the organizations like banks often have data stored in multiple datasets. Assume we want to study the transactional level data, we'll need to combine these three datasets together to have transactions data with account and district data.\n",
    "\n",
    "Objective:\n",
    "• Examine/clean the individual dataset\n",
    "• Combine them into a single dataset, which is subject to more cleaning\n",
    "• Create new columns based on existing columns\n",
    "By the end, the new dataset is ready for more analysis.\n"
   ]
  },
  {
   "cell_type": "markdown",
   "metadata": {},
   "source": [
    "1. Import the libraries"
   ]
  },
  {
   "cell_type": "code",
   "execution_count": 2,
   "metadata": {},
   "outputs": [],
   "source": [
    "import pandas as pd"
   ]
  },
  {
   "cell_type": "markdown",
   "metadata": {},
   "source": [
    "2. Import the data from three csv files as DataFrames account, district, trans\n",
    "Hint:\n",
    "⚫ the read_csv function can automatically infer and load zip file, read its documentation of parameter compression if you are interested in details\n",
    "⚫ you may ignore the warning when reading the trans.csv.zip file. It is optional to follow the warning instructions to remove it."
   ]
  },
  {
   "cell_type": "code",
   "execution_count": 3,
   "metadata": {},
   "outputs": [
    {
     "name": "stderr",
     "output_type": "stream",
     "text": [
      "C:\\Users\\Om\\AppData\\Local\\Temp\\ipykernel_2160\\1987990376.py:3: DtypeWarning: Columns (8) have mixed types. Specify dtype option on import or set low_memory=False.\n",
      "  trans= pd.read_csv('./datasets/trans.csv',delimiter=';',encoding='utf-8')\n"
     ]
    }
   ],
   "source": [
    "account = pd.read_csv('./datasets/account.csv',delimiter=';',encoding='utf-8')\n",
    "district = pd.read_csv('./datasets/district.csv',delimiter=';',encoding='utf-8')\n",
    "trans= pd.read_csv('./datasets/trans.csv',delimiter=';',encoding='utf-8')\n",
    " "
   ]
  },
  {
   "cell_type": "markdown",
   "metadata": {},
   "source": [
    "3. Look at the info summary, head of each DataFrame"
   ]
  },
  {
   "cell_type": "code",
   "execution_count": 4,
   "metadata": {},
   "outputs": [
    {
     "name": "stdout",
     "output_type": "stream",
     "text": [
      "   account_id  district_id         frequency    date\n",
      "0         576           55  POPLATEK MESICNE  930101\n",
      "1        3818           74  POPLATEK MESICNE  930101\n",
      "2         704           55  POPLATEK MESICNE  930101\n",
      "3        2378           16  POPLATEK MESICNE  930101\n",
      "4        2632           24  POPLATEK MESICNE  930102\n",
      "<class 'pandas.core.frame.DataFrame'>\n",
      "RangeIndex: 4500 entries, 0 to 4499\n",
      "Data columns (total 4 columns):\n",
      " #   Column       Non-Null Count  Dtype \n",
      "---  ------       --------------  ----- \n",
      " 0   account_id   4500 non-null   int64 \n",
      " 1   district_id  4500 non-null   int64 \n",
      " 2   frequency    4500 non-null   object\n",
      " 3   date         4500 non-null   int64 \n",
      "dtypes: int64(3), object(1)\n",
      "memory usage: 140.8+ KB\n",
      "None\n"
     ]
    }
   ],
   "source": [
    "print(account.head())\n",
    "print(account.info())"
   ]
  },
  {
   "cell_type": "code",
   "execution_count": 5,
   "metadata": {},
   "outputs": [
    {
     "name": "stdout",
     "output_type": "stream",
     "text": [
      "   A1           A2               A3       A4  A5  A6  A7  A8  A9    A10  \\\n",
      "0   1  Hl.m. Praha           Prague  1204953   0   0   0   1   1  100.0   \n",
      "1   2      Benesov  central Bohemia    88884  80  26   6   2   5   46.7   \n",
      "2   3       Beroun  central Bohemia    75232  55  26   4   1   5   41.7   \n",
      "3   4       Kladno  central Bohemia   149893  63  29   6   2   6   67.4   \n",
      "4   5        Kolin  central Bohemia    95616  65  30   4   1   6   51.4   \n",
      "\n",
      "     A11   A12   A13  A14    A15    A16  \n",
      "0  12541  0.29  0.43  167  85677  99107  \n",
      "1   8507  1.67  1.85  132   2159   2674  \n",
      "2   8980  1.95  2.21  111   2824   2813  \n",
      "3   9753  4.64  5.05  109   5244   5892  \n",
      "4   9307  3.85  4.43  118   2616   3040  \n",
      "<class 'pandas.core.frame.DataFrame'>\n",
      "RangeIndex: 77 entries, 0 to 76\n",
      "Data columns (total 16 columns):\n",
      " #   Column  Non-Null Count  Dtype  \n",
      "---  ------  --------------  -----  \n",
      " 0   A1      77 non-null     int64  \n",
      " 1   A2      77 non-null     object \n",
      " 2   A3      77 non-null     object \n",
      " 3   A4      77 non-null     int64  \n",
      " 4   A5      77 non-null     int64  \n",
      " 5   A6      77 non-null     int64  \n",
      " 6   A7      77 non-null     int64  \n",
      " 7   A8      77 non-null     int64  \n",
      " 8   A9      77 non-null     int64  \n",
      " 9   A10     77 non-null     float64\n",
      " 10  A11     77 non-null     int64  \n",
      " 11  A12     77 non-null     object \n",
      " 12  A13     77 non-null     float64\n",
      " 13  A14     77 non-null     int64  \n",
      " 14  A15     77 non-null     object \n",
      " 15  A16     77 non-null     int64  \n",
      "dtypes: float64(2), int64(10), object(4)\n",
      "memory usage: 9.8+ KB\n",
      "None\n"
     ]
    }
   ],
   "source": [
    "print(district.head())\n",
    "print(district.info())"
   ]
  },
  {
   "cell_type": "code",
   "execution_count": 6,
   "metadata": {},
   "outputs": [
    {
     "name": "stdout",
     "output_type": "stream",
     "text": [
      "   trans_id  account_id    date    type operation  amount  balance k_symbol  \\\n",
      "0    695247        2378  930101  PRIJEM     VKLAD   700.0    700.0      NaN   \n",
      "1    171812         576  930101  PRIJEM     VKLAD   900.0    900.0      NaN   \n",
      "2    207264         704  930101  PRIJEM     VKLAD  1000.0   1000.0      NaN   \n",
      "3   1117247        3818  930101  PRIJEM     VKLAD   600.0    600.0      NaN   \n",
      "4    579373        1972  930102  PRIJEM     VKLAD   400.0    400.0      NaN   \n",
      "\n",
      "  bank  account  \n",
      "0  NaN      NaN  \n",
      "1  NaN      NaN  \n",
      "2  NaN      NaN  \n",
      "3  NaN      NaN  \n",
      "4  NaN      NaN  \n",
      "<class 'pandas.core.frame.DataFrame'>\n",
      "RangeIndex: 1056320 entries, 0 to 1056319\n",
      "Data columns (total 10 columns):\n",
      " #   Column      Non-Null Count    Dtype  \n",
      "---  ------      --------------    -----  \n",
      " 0   trans_id    1056320 non-null  int64  \n",
      " 1   account_id  1056320 non-null  int64  \n",
      " 2   date        1056320 non-null  int64  \n",
      " 3   type        1056320 non-null  object \n",
      " 4   operation   873206 non-null   object \n",
      " 5   amount      1056320 non-null  float64\n",
      " 6   balance     1056320 non-null  float64\n",
      " 7   k_symbol    574439 non-null   object \n",
      " 8   bank        273508 non-null   object \n",
      " 9   account     295389 non-null   float64\n",
      "dtypes: float64(3), int64(3), object(4)\n",
      "memory usage: 80.6+ MB\n",
      "None\n"
     ]
    }
   ],
   "source": [
    "print(trans.head())\n",
    "print(trans.info())"
   ]
  },
  {
   "cell_type": "markdown",
   "metadata": {},
   "source": [
    "4. Check for the unique values and their counts in each column for the three DataFrames"
   ]
  },
  {
   "cell_type": "code",
   "execution_count": 7,
   "metadata": {},
   "outputs": [
    {
     "data": {
      "text/plain": [
       "account_id     4500\n",
       "district_id      77\n",
       "frequency         3\n",
       "date           1535\n",
       "dtype: int64"
      ]
     },
     "execution_count": 7,
     "metadata": {},
     "output_type": "execute_result"
    }
   ],
   "source": [
    "account.nunique()"
   ]
  },
  {
   "cell_type": "code",
   "execution_count": 8,
   "metadata": {},
   "outputs": [
    {
     "data": {
      "text/plain": [
       "A1     77\n",
       "A2     77\n",
       "A3      8\n",
       "A4     77\n",
       "A5     53\n",
       "A6     36\n",
       "A7     17\n",
       "A8      6\n",
       "A9     11\n",
       "A10    70\n",
       "A11    76\n",
       "A12    71\n",
       "A13    73\n",
       "A14    44\n",
       "A15    76\n",
       "A16    76\n",
       "dtype: int64"
      ]
     },
     "execution_count": 8,
     "metadata": {},
     "output_type": "execute_result"
    }
   ],
   "source": [
    "district.nunique()"
   ]
  },
  {
   "cell_type": "code",
   "execution_count": 9,
   "metadata": {},
   "outputs": [
    {
     "data": {
      "text/plain": [
       "trans_id      1056320\n",
       "account_id       4500\n",
       "date             2191\n",
       "type                3\n",
       "operation           5\n",
       "amount          40400\n",
       "balance        542739\n",
       "k_symbol            8\n",
       "bank               13\n",
       "account          7665\n",
       "dtype: int64"
      ]
     },
     "execution_count": 9,
     "metadata": {},
     "output_type": "execute_result"
    }
   ],
   "source": [
    "trans.nunique()"
   ]
  },
  {
   "cell_type": "markdown",
   "metadata": {},
   "source": [
    "5. Check for duplicates in the three DataFrames"
   ]
  },
  {
   "cell_type": "code",
   "execution_count": 10,
   "metadata": {},
   "outputs": [
    {
     "data": {
      "text/html": [
       "<div>\n",
       "<style scoped>\n",
       "    .dataframe tbody tr th:only-of-type {\n",
       "        vertical-align: middle;\n",
       "    }\n",
       "\n",
       "    .dataframe tbody tr th {\n",
       "        vertical-align: top;\n",
       "    }\n",
       "\n",
       "    .dataframe thead th {\n",
       "        text-align: right;\n",
       "    }\n",
       "</style>\n",
       "<table border=\"1\" class=\"dataframe\">\n",
       "  <thead>\n",
       "    <tr style=\"text-align: right;\">\n",
       "      <th></th>\n",
       "      <th>account_id</th>\n",
       "      <th>district_id</th>\n",
       "      <th>frequency</th>\n",
       "      <th>date</th>\n",
       "    </tr>\n",
       "  </thead>\n",
       "  <tbody>\n",
       "  </tbody>\n",
       "</table>\n",
       "</div>"
      ],
      "text/plain": [
       "Empty DataFrame\n",
       "Columns: [account_id, district_id, frequency, date]\n",
       "Index: []"
      ]
     },
     "execution_count": 10,
     "metadata": {},
     "output_type": "execute_result"
    }
   ],
   "source": [
    "account[account.duplicated()]"
   ]
  },
  {
   "cell_type": "code",
   "execution_count": 11,
   "metadata": {},
   "outputs": [
    {
     "data": {
      "text/html": [
       "<div>\n",
       "<style scoped>\n",
       "    .dataframe tbody tr th:only-of-type {\n",
       "        vertical-align: middle;\n",
       "    }\n",
       "\n",
       "    .dataframe tbody tr th {\n",
       "        vertical-align: top;\n",
       "    }\n",
       "\n",
       "    .dataframe thead th {\n",
       "        text-align: right;\n",
       "    }\n",
       "</style>\n",
       "<table border=\"1\" class=\"dataframe\">\n",
       "  <thead>\n",
       "    <tr style=\"text-align: right;\">\n",
       "      <th></th>\n",
       "      <th>A1</th>\n",
       "      <th>A2</th>\n",
       "      <th>A3</th>\n",
       "      <th>A4</th>\n",
       "      <th>A5</th>\n",
       "      <th>A6</th>\n",
       "      <th>A7</th>\n",
       "      <th>A8</th>\n",
       "      <th>A9</th>\n",
       "      <th>A10</th>\n",
       "      <th>A11</th>\n",
       "      <th>A12</th>\n",
       "      <th>A13</th>\n",
       "      <th>A14</th>\n",
       "      <th>A15</th>\n",
       "      <th>A16</th>\n",
       "    </tr>\n",
       "  </thead>\n",
       "  <tbody>\n",
       "  </tbody>\n",
       "</table>\n",
       "</div>"
      ],
      "text/plain": [
       "Empty DataFrame\n",
       "Columns: [A1, A2, A3, A4, A5, A6, A7, A8, A9, A10, A11, A12, A13, A14, A15, A16]\n",
       "Index: []"
      ]
     },
     "execution_count": 11,
     "metadata": {},
     "output_type": "execute_result"
    }
   ],
   "source": [
    "district[district.duplicated()]"
   ]
  },
  {
   "cell_type": "code",
   "execution_count": 12,
   "metadata": {},
   "outputs": [
    {
     "data": {
      "text/html": [
       "<div>\n",
       "<style scoped>\n",
       "    .dataframe tbody tr th:only-of-type {\n",
       "        vertical-align: middle;\n",
       "    }\n",
       "\n",
       "    .dataframe tbody tr th {\n",
       "        vertical-align: top;\n",
       "    }\n",
       "\n",
       "    .dataframe thead th {\n",
       "        text-align: right;\n",
       "    }\n",
       "</style>\n",
       "<table border=\"1\" class=\"dataframe\">\n",
       "  <thead>\n",
       "    <tr style=\"text-align: right;\">\n",
       "      <th></th>\n",
       "      <th>trans_id</th>\n",
       "      <th>account_id</th>\n",
       "      <th>date</th>\n",
       "      <th>type</th>\n",
       "      <th>operation</th>\n",
       "      <th>amount</th>\n",
       "      <th>balance</th>\n",
       "      <th>k_symbol</th>\n",
       "      <th>bank</th>\n",
       "      <th>account</th>\n",
       "    </tr>\n",
       "  </thead>\n",
       "  <tbody>\n",
       "  </tbody>\n",
       "</table>\n",
       "</div>"
      ],
      "text/plain": [
       "Empty DataFrame\n",
       "Columns: [trans_id, account_id, date, type, operation, amount, balance, k_symbol, bank, account]\n",
       "Index: []"
      ]
     },
     "execution_count": 12,
     "metadata": {},
     "output_type": "execute_result"
    }
   ],
   "source": [
    "trans[trans.duplicated()]"
   ]
  },
  {
   "cell_type": "code",
   "execution_count": 13,
   "metadata": {},
   "outputs": [],
   "source": [
    "disp = pd.read_csv('./datasets/disp.csv',delimiter=';')"
   ]
  },
  {
   "cell_type": "markdown",
   "metadata": {},
   "source": [
    "6. Convert column account_open_date in account and column date in trans into datetime dtypes"
   ]
  },
  {
   "cell_type": "code",
   "execution_count": 14,
   "metadata": {},
   "outputs": [],
   "source": [
    "\n",
    "\n",
    "# Assuming df_account is your \"account\" DataFrame\n",
    "account['date'] = pd.to_datetime(account['date'], format='%y%m%d')\n",
    "\n",
    "# Assuming df_trans is your \"trans\" DataFrame\n",
    "trans['date'] = pd.to_datetime(trans['date'], format='%y%m%d')\n",
    "\n",
    "# account['date'].astype('datetime64[as]')"
   ]
  },
  {
   "cell_type": "code",
   "execution_count": 15,
   "metadata": {},
   "outputs": [
    {
     "data": {
      "text/html": [
       "<div>\n",
       "<style scoped>\n",
       "    .dataframe tbody tr th:only-of-type {\n",
       "        vertical-align: middle;\n",
       "    }\n",
       "\n",
       "    .dataframe tbody tr th {\n",
       "        vertical-align: top;\n",
       "    }\n",
       "\n",
       "    .dataframe thead th {\n",
       "        text-align: right;\n",
       "    }\n",
       "</style>\n",
       "<table border=\"1\" class=\"dataframe\">\n",
       "  <thead>\n",
       "    <tr style=\"text-align: right;\">\n",
       "      <th></th>\n",
       "      <th>A1</th>\n",
       "      <th>A2</th>\n",
       "      <th>A3</th>\n",
       "      <th>A4</th>\n",
       "      <th>A5</th>\n",
       "      <th>A6</th>\n",
       "      <th>A7</th>\n",
       "      <th>A8</th>\n",
       "      <th>A9</th>\n",
       "      <th>A10</th>\n",
       "      <th>A11</th>\n",
       "      <th>A12</th>\n",
       "      <th>A13</th>\n",
       "      <th>A14</th>\n",
       "      <th>A15</th>\n",
       "      <th>A16</th>\n",
       "    </tr>\n",
       "  </thead>\n",
       "  <tbody>\n",
       "    <tr>\n",
       "      <th>0</th>\n",
       "      <td>1</td>\n",
       "      <td>Hl.m. Praha</td>\n",
       "      <td>Prague</td>\n",
       "      <td>1204953</td>\n",
       "      <td>0</td>\n",
       "      <td>0</td>\n",
       "      <td>0</td>\n",
       "      <td>1</td>\n",
       "      <td>1</td>\n",
       "      <td>100.0</td>\n",
       "      <td>12541</td>\n",
       "      <td>0.29</td>\n",
       "      <td>0.43</td>\n",
       "      <td>167</td>\n",
       "      <td>85677</td>\n",
       "      <td>99107</td>\n",
       "    </tr>\n",
       "    <tr>\n",
       "      <th>1</th>\n",
       "      <td>2</td>\n",
       "      <td>Benesov</td>\n",
       "      <td>central Bohemia</td>\n",
       "      <td>88884</td>\n",
       "      <td>80</td>\n",
       "      <td>26</td>\n",
       "      <td>6</td>\n",
       "      <td>2</td>\n",
       "      <td>5</td>\n",
       "      <td>46.7</td>\n",
       "      <td>8507</td>\n",
       "      <td>1.67</td>\n",
       "      <td>1.85</td>\n",
       "      <td>132</td>\n",
       "      <td>2159</td>\n",
       "      <td>2674</td>\n",
       "    </tr>\n",
       "    <tr>\n",
       "      <th>2</th>\n",
       "      <td>3</td>\n",
       "      <td>Beroun</td>\n",
       "      <td>central Bohemia</td>\n",
       "      <td>75232</td>\n",
       "      <td>55</td>\n",
       "      <td>26</td>\n",
       "      <td>4</td>\n",
       "      <td>1</td>\n",
       "      <td>5</td>\n",
       "      <td>41.7</td>\n",
       "      <td>8980</td>\n",
       "      <td>1.95</td>\n",
       "      <td>2.21</td>\n",
       "      <td>111</td>\n",
       "      <td>2824</td>\n",
       "      <td>2813</td>\n",
       "    </tr>\n",
       "    <tr>\n",
       "      <th>3</th>\n",
       "      <td>4</td>\n",
       "      <td>Kladno</td>\n",
       "      <td>central Bohemia</td>\n",
       "      <td>149893</td>\n",
       "      <td>63</td>\n",
       "      <td>29</td>\n",
       "      <td>6</td>\n",
       "      <td>2</td>\n",
       "      <td>6</td>\n",
       "      <td>67.4</td>\n",
       "      <td>9753</td>\n",
       "      <td>4.64</td>\n",
       "      <td>5.05</td>\n",
       "      <td>109</td>\n",
       "      <td>5244</td>\n",
       "      <td>5892</td>\n",
       "    </tr>\n",
       "    <tr>\n",
       "      <th>4</th>\n",
       "      <td>5</td>\n",
       "      <td>Kolin</td>\n",
       "      <td>central Bohemia</td>\n",
       "      <td>95616</td>\n",
       "      <td>65</td>\n",
       "      <td>30</td>\n",
       "      <td>4</td>\n",
       "      <td>1</td>\n",
       "      <td>6</td>\n",
       "      <td>51.4</td>\n",
       "      <td>9307</td>\n",
       "      <td>3.85</td>\n",
       "      <td>4.43</td>\n",
       "      <td>118</td>\n",
       "      <td>2616</td>\n",
       "      <td>3040</td>\n",
       "    </tr>\n",
       "  </tbody>\n",
       "</table>\n",
       "</div>"
      ],
      "text/plain": [
       "   A1           A2               A3       A4  A5  A6  A7  A8  A9    A10  \\\n",
       "0   1  Hl.m. Praha           Prague  1204953   0   0   0   1   1  100.0   \n",
       "1   2      Benesov  central Bohemia    88884  80  26   6   2   5   46.7   \n",
       "2   3       Beroun  central Bohemia    75232  55  26   4   1   5   41.7   \n",
       "3   4       Kladno  central Bohemia   149893  63  29   6   2   6   67.4   \n",
       "4   5        Kolin  central Bohemia    95616  65  30   4   1   6   51.4   \n",
       "\n",
       "     A11   A12   A13  A14    A15    A16  \n",
       "0  12541  0.29  0.43  167  85677  99107  \n",
       "1   8507  1.67  1.85  132   2159   2674  \n",
       "2   8980  1.95  2.21  111   2824   2813  \n",
       "3   9753  4.64  5.05  109   5244   5892  \n",
       "4   9307  3.85  4.43  118   2616   3040  "
      ]
     },
     "execution_count": 15,
     "metadata": {},
     "output_type": "execute_result"
    }
   ],
   "source": [
    "district.head()"
   ]
  },
  {
   "cell_type": "markdown",
   "metadata": {},
   "source": [
    "7. Convert the columns region and district_name in district to all uppercase"
   ]
  },
  {
   "cell_type": "code",
   "execution_count": 16,
   "metadata": {},
   "outputs": [],
   "source": [
    "new_column_names = {\n",
    "    \"A1\": \"district_code\",\n",
    "    \"A2\": \"district_name\",\n",
    "    \"A3\": \"region\",\n",
    "    \"A4\": \"no_of_inhabitants\",\n",
    "    \"A5\": \"no_of_municipalities_lt_499\",\n",
    "    \"A6\": \"no_of_municipalities_500_1999\",\n",
    "    \"A7\": \"no_of_municipalities_2000_9999\",\n",
    "    \"A8\": \"no_of_municipalities_gt_10000\",\n",
    "    \"A9\": \"no_of_cities\",\n",
    "    \"A10\": \"ratio_of_urban_inhabitants\",\n",
    "    \"A11\": \"average_salary\",\n",
    "    \"A12\": \"unemployment_rate_95\",\n",
    "    \"A13\": \"unemployment_rate_96\",\n",
    "    \"A14\": \"no_of_entrepreneurs_per_1000\",\n",
    "    \"A15\": \"no_of_committed_crimes_95\",\n",
    "    \"A16\": \"no_of_committed_crimes_96\"\n",
    "}\n",
    "\n",
    "district.rename(columns=new_column_names, inplace=True)\n"
   ]
  },
  {
   "cell_type": "code",
   "execution_count": 17,
   "metadata": {},
   "outputs": [
    {
     "data": {
      "text/plain": [
       "Index(['district_code', 'district_name', 'region', 'no_of_inhabitants',\n",
       "       'no_of_municipalities_lt_499', 'no_of_municipalities_500_1999',\n",
       "       'no_of_municipalities_2000_9999', 'no_of_municipalities_gt_10000',\n",
       "       'no_of_cities', 'ratio_of_urban_inhabitants', 'average_salary',\n",
       "       'unemployment_rate_95', 'unemployment_rate_96',\n",
       "       'no_of_entrepreneurs_per_1000', 'no_of_committed_crimes_95',\n",
       "       'no_of_committed_crimes_96'],\n",
       "      dtype='object')"
      ]
     },
     "execution_count": 17,
     "metadata": {},
     "output_type": "execute_result"
    }
   ],
   "source": [
    "district.columns"
   ]
  },
  {
   "cell_type": "code",
   "execution_count": 18,
   "metadata": {},
   "outputs": [],
   "source": [
    "district[['district_name', 'region']] = district[['district_name', 'region']].applymap(str.upper)\n",
    "# district['region'] = district['region'].apply(str.upper)\n",
    "# district['district_name'] = district['district_name'].apply(str.upper)"
   ]
  },
  {
   "cell_type": "code",
   "execution_count": 19,
   "metadata": {},
   "outputs": [
    {
     "data": {
      "text/html": [
       "<div>\n",
       "<style scoped>\n",
       "    .dataframe tbody tr th:only-of-type {\n",
       "        vertical-align: middle;\n",
       "    }\n",
       "\n",
       "    .dataframe tbody tr th {\n",
       "        vertical-align: top;\n",
       "    }\n",
       "\n",
       "    .dataframe thead th {\n",
       "        text-align: right;\n",
       "    }\n",
       "</style>\n",
       "<table border=\"1\" class=\"dataframe\">\n",
       "  <thead>\n",
       "    <tr style=\"text-align: right;\">\n",
       "      <th></th>\n",
       "      <th>district_code</th>\n",
       "      <th>district_name</th>\n",
       "      <th>region</th>\n",
       "      <th>no_of_inhabitants</th>\n",
       "      <th>no_of_municipalities_lt_499</th>\n",
       "      <th>no_of_municipalities_500_1999</th>\n",
       "      <th>no_of_municipalities_2000_9999</th>\n",
       "      <th>no_of_municipalities_gt_10000</th>\n",
       "      <th>no_of_cities</th>\n",
       "      <th>ratio_of_urban_inhabitants</th>\n",
       "      <th>average_salary</th>\n",
       "      <th>unemployment_rate_95</th>\n",
       "      <th>unemployment_rate_96</th>\n",
       "      <th>no_of_entrepreneurs_per_1000</th>\n",
       "      <th>no_of_committed_crimes_95</th>\n",
       "      <th>no_of_committed_crimes_96</th>\n",
       "    </tr>\n",
       "  </thead>\n",
       "  <tbody>\n",
       "    <tr>\n",
       "      <th>0</th>\n",
       "      <td>1</td>\n",
       "      <td>HL.M. PRAHA</td>\n",
       "      <td>PRAGUE</td>\n",
       "      <td>1204953</td>\n",
       "      <td>0</td>\n",
       "      <td>0</td>\n",
       "      <td>0</td>\n",
       "      <td>1</td>\n",
       "      <td>1</td>\n",
       "      <td>100.0</td>\n",
       "      <td>12541</td>\n",
       "      <td>0.29</td>\n",
       "      <td>0.43</td>\n",
       "      <td>167</td>\n",
       "      <td>85677</td>\n",
       "      <td>99107</td>\n",
       "    </tr>\n",
       "    <tr>\n",
       "      <th>1</th>\n",
       "      <td>2</td>\n",
       "      <td>BENESOV</td>\n",
       "      <td>CENTRAL BOHEMIA</td>\n",
       "      <td>88884</td>\n",
       "      <td>80</td>\n",
       "      <td>26</td>\n",
       "      <td>6</td>\n",
       "      <td>2</td>\n",
       "      <td>5</td>\n",
       "      <td>46.7</td>\n",
       "      <td>8507</td>\n",
       "      <td>1.67</td>\n",
       "      <td>1.85</td>\n",
       "      <td>132</td>\n",
       "      <td>2159</td>\n",
       "      <td>2674</td>\n",
       "    </tr>\n",
       "    <tr>\n",
       "      <th>2</th>\n",
       "      <td>3</td>\n",
       "      <td>BEROUN</td>\n",
       "      <td>CENTRAL BOHEMIA</td>\n",
       "      <td>75232</td>\n",
       "      <td>55</td>\n",
       "      <td>26</td>\n",
       "      <td>4</td>\n",
       "      <td>1</td>\n",
       "      <td>5</td>\n",
       "      <td>41.7</td>\n",
       "      <td>8980</td>\n",
       "      <td>1.95</td>\n",
       "      <td>2.21</td>\n",
       "      <td>111</td>\n",
       "      <td>2824</td>\n",
       "      <td>2813</td>\n",
       "    </tr>\n",
       "    <tr>\n",
       "      <th>3</th>\n",
       "      <td>4</td>\n",
       "      <td>KLADNO</td>\n",
       "      <td>CENTRAL BOHEMIA</td>\n",
       "      <td>149893</td>\n",
       "      <td>63</td>\n",
       "      <td>29</td>\n",
       "      <td>6</td>\n",
       "      <td>2</td>\n",
       "      <td>6</td>\n",
       "      <td>67.4</td>\n",
       "      <td>9753</td>\n",
       "      <td>4.64</td>\n",
       "      <td>5.05</td>\n",
       "      <td>109</td>\n",
       "      <td>5244</td>\n",
       "      <td>5892</td>\n",
       "    </tr>\n",
       "    <tr>\n",
       "      <th>4</th>\n",
       "      <td>5</td>\n",
       "      <td>KOLIN</td>\n",
       "      <td>CENTRAL BOHEMIA</td>\n",
       "      <td>95616</td>\n",
       "      <td>65</td>\n",
       "      <td>30</td>\n",
       "      <td>4</td>\n",
       "      <td>1</td>\n",
       "      <td>6</td>\n",
       "      <td>51.4</td>\n",
       "      <td>9307</td>\n",
       "      <td>3.85</td>\n",
       "      <td>4.43</td>\n",
       "      <td>118</td>\n",
       "      <td>2616</td>\n",
       "      <td>3040</td>\n",
       "    </tr>\n",
       "  </tbody>\n",
       "</table>\n",
       "</div>"
      ],
      "text/plain": [
       "   district_code district_name           region  no_of_inhabitants  \\\n",
       "0              1   HL.M. PRAHA           PRAGUE            1204953   \n",
       "1              2       BENESOV  CENTRAL BOHEMIA              88884   \n",
       "2              3        BEROUN  CENTRAL BOHEMIA              75232   \n",
       "3              4        KLADNO  CENTRAL BOHEMIA             149893   \n",
       "4              5         KOLIN  CENTRAL BOHEMIA              95616   \n",
       "\n",
       "   no_of_municipalities_lt_499  no_of_municipalities_500_1999  \\\n",
       "0                            0                              0   \n",
       "1                           80                             26   \n",
       "2                           55                             26   \n",
       "3                           63                             29   \n",
       "4                           65                             30   \n",
       "\n",
       "   no_of_municipalities_2000_9999  no_of_municipalities_gt_10000  \\\n",
       "0                               0                              1   \n",
       "1                               6                              2   \n",
       "2                               4                              1   \n",
       "3                               6                              2   \n",
       "4                               4                              1   \n",
       "\n",
       "   no_of_cities  ratio_of_urban_inhabitants  average_salary  \\\n",
       "0             1                       100.0           12541   \n",
       "1             5                        46.7            8507   \n",
       "2             5                        41.7            8980   \n",
       "3             6                        67.4            9753   \n",
       "4             6                        51.4            9307   \n",
       "\n",
       "  unemployment_rate_95  unemployment_rate_96  no_of_entrepreneurs_per_1000  \\\n",
       "0                 0.29                  0.43                           167   \n",
       "1                 1.67                  1.85                           132   \n",
       "2                 1.95                  2.21                           111   \n",
       "3                 4.64                  5.05                           109   \n",
       "4                 3.85                  4.43                           118   \n",
       "\n",
       "  no_of_committed_crimes_95  no_of_committed_crimes_96  \n",
       "0                     85677                      99107  \n",
       "1                      2159                       2674  \n",
       "2                      2824                       2813  \n",
       "3                      5244                       5892  \n",
       "4                      2616                       3040  "
      ]
     },
     "execution_count": 19,
     "metadata": {},
     "output_type": "execute_result"
    }
   ],
   "source": [
    "district.head()"
   ]
  },
  {
   "cell_type": "markdown",
   "metadata": {},
   "source": [
    "8. Check for missing data by columns in account using the isna method"
   ]
  },
  {
   "cell_type": "code",
   "execution_count": 20,
   "metadata": {},
   "outputs": [
    {
     "data": {
      "text/plain": [
       "account_id     0\n",
       "district_id    0\n",
       "frequency      0\n",
       "date           0\n",
       "dtype: int64"
      ]
     },
     "execution_count": 20,
     "metadata": {},
     "output_type": "execute_result"
    }
   ],
   "source": [
    "account.isna().sum()"
   ]
  },
  {
   "cell_type": "markdown",
   "metadata": {},
   "source": [
    "9. Check for missing data by columns in district using the isna method\n"
   ]
  },
  {
   "cell_type": "code",
   "execution_count": 21,
   "metadata": {},
   "outputs": [
    {
     "data": {
      "text/plain": [
       "district_code                     0\n",
       "district_name                     0\n",
       "region                            0\n",
       "no_of_inhabitants                 0\n",
       "no_of_municipalities_lt_499       0\n",
       "no_of_municipalities_500_1999     0\n",
       "no_of_municipalities_2000_9999    0\n",
       "no_of_municipalities_gt_10000     0\n",
       "no_of_cities                      0\n",
       "ratio_of_urban_inhabitants        0\n",
       "average_salary                    0\n",
       "unemployment_rate_95              0\n",
       "unemployment_rate_96              0\n",
       "no_of_entrepreneurs_per_1000      0\n",
       "no_of_committed_crimes_95         0\n",
       "no_of_committed_crimes_96         0\n",
       "dtype: int64"
      ]
     },
     "execution_count": 21,
     "metadata": {},
     "output_type": "execute_result"
    }
   ],
   "source": [
    "district.isna().sum()"
   ]
  },
  {
   "cell_type": "code",
   "execution_count": 22,
   "metadata": {},
   "outputs": [],
   "source": [
    "district.rename(columns={'no_of_inhabitants':'population'}, inplace=True)"
   ]
  },
  {
   "cell_type": "code",
   "execution_count": 23,
   "metadata": {},
   "outputs": [
    {
     "data": {
      "text/plain": [
       "no_of_committed_crimes_95    0\n",
       "no_of_committed_crimes_96    0\n",
       "dtype: int64"
      ]
     },
     "execution_count": 23,
     "metadata": {},
     "output_type": "execute_result"
    }
   ],
   "source": [
    "district[['no_of_committed_crimes_95','no_of_committed_crimes_96']].isna().sum()"
   ]
  },
  {
   "cell_type": "code",
   "execution_count": 24,
   "metadata": {},
   "outputs": [],
   "source": [
    "district[\"no_of_committed_crimes_95\"] = pd.to_numeric(district[\"no_of_committed_crimes_95\"],errors=\"coerce\")\n",
    "district[\"no_of_committed_crimes_96\"] = pd.to_numeric(district[\"no_of_committed_crimes_96\"],errors=\"coerce\")\n"
   ]
  },
  {
   "cell_type": "code",
   "execution_count": 25,
   "metadata": {},
   "outputs": [],
   "source": [
    "\n",
    "# Create a new column 'total_committed_crimes' by adding the values of the two columns\n",
    "district[\"num_committed_crimes\"] = district[\"no_of_committed_crimes_95\"] + district[\"no_of_committed_crimes_96\"]\n"
   ]
  },
  {
   "cell_type": "code",
   "execution_count": 26,
   "metadata": {},
   "outputs": [],
   "source": [
    "# Drop the original columns\n",
    "district.drop([\"no_of_committed_crimes_95\", \"no_of_committed_crimes_96\"], axis=1, inplace=True)\n"
   ]
  },
  {
   "cell_type": "code",
   "execution_count": 27,
   "metadata": {},
   "outputs": [],
   "source": [
    "# lets to same for unemployementrate\n",
    "district['unemployment_rate_95'] = pd.to_numeric(district['unemployment_rate_95'],errors='coerce')\n",
    "district['unemployment_rate_96'] = pd.to_numeric(district['unemployment_rate_96'],errors='coerce')"
   ]
  },
  {
   "cell_type": "code",
   "execution_count": 28,
   "metadata": {},
   "outputs": [],
   "source": [
    "district[\"unemployment_rate\"] = district['unemployment_rate_95'] + district['unemployment_rate_96']"
   ]
  },
  {
   "cell_type": "code",
   "execution_count": 29,
   "metadata": {},
   "outputs": [],
   "source": [
    "district.drop(['unemployment_rate_95', 'unemployment_rate_96'], axis=1, inplace=True)"
   ]
  },
  {
   "cell_type": "code",
   "execution_count": 30,
   "metadata": {},
   "outputs": [
    {
     "data": {
      "text/html": [
       "<div>\n",
       "<style scoped>\n",
       "    .dataframe tbody tr th:only-of-type {\n",
       "        vertical-align: middle;\n",
       "    }\n",
       "\n",
       "    .dataframe tbody tr th {\n",
       "        vertical-align: top;\n",
       "    }\n",
       "\n",
       "    .dataframe thead th {\n",
       "        text-align: right;\n",
       "    }\n",
       "</style>\n",
       "<table border=\"1\" class=\"dataframe\">\n",
       "  <thead>\n",
       "    <tr style=\"text-align: right;\">\n",
       "      <th></th>\n",
       "      <th>district_code</th>\n",
       "      <th>district_name</th>\n",
       "      <th>region</th>\n",
       "      <th>population</th>\n",
       "      <th>no_of_municipalities_lt_499</th>\n",
       "      <th>no_of_municipalities_500_1999</th>\n",
       "      <th>no_of_municipalities_2000_9999</th>\n",
       "      <th>no_of_municipalities_gt_10000</th>\n",
       "      <th>no_of_cities</th>\n",
       "      <th>ratio_of_urban_inhabitants</th>\n",
       "      <th>average_salary</th>\n",
       "      <th>no_of_entrepreneurs_per_1000</th>\n",
       "      <th>num_committed_crimes</th>\n",
       "      <th>unemployment_rate</th>\n",
       "    </tr>\n",
       "  </thead>\n",
       "  <tbody>\n",
       "    <tr>\n",
       "      <th>0</th>\n",
       "      <td>1</td>\n",
       "      <td>HL.M. PRAHA</td>\n",
       "      <td>PRAGUE</td>\n",
       "      <td>1204953</td>\n",
       "      <td>0</td>\n",
       "      <td>0</td>\n",
       "      <td>0</td>\n",
       "      <td>1</td>\n",
       "      <td>1</td>\n",
       "      <td>100.0</td>\n",
       "      <td>12541</td>\n",
       "      <td>167</td>\n",
       "      <td>184784.0</td>\n",
       "      <td>0.72</td>\n",
       "    </tr>\n",
       "    <tr>\n",
       "      <th>1</th>\n",
       "      <td>2</td>\n",
       "      <td>BENESOV</td>\n",
       "      <td>CENTRAL BOHEMIA</td>\n",
       "      <td>88884</td>\n",
       "      <td>80</td>\n",
       "      <td>26</td>\n",
       "      <td>6</td>\n",
       "      <td>2</td>\n",
       "      <td>5</td>\n",
       "      <td>46.7</td>\n",
       "      <td>8507</td>\n",
       "      <td>132</td>\n",
       "      <td>4833.0</td>\n",
       "      <td>3.52</td>\n",
       "    </tr>\n",
       "    <tr>\n",
       "      <th>2</th>\n",
       "      <td>3</td>\n",
       "      <td>BEROUN</td>\n",
       "      <td>CENTRAL BOHEMIA</td>\n",
       "      <td>75232</td>\n",
       "      <td>55</td>\n",
       "      <td>26</td>\n",
       "      <td>4</td>\n",
       "      <td>1</td>\n",
       "      <td>5</td>\n",
       "      <td>41.7</td>\n",
       "      <td>8980</td>\n",
       "      <td>111</td>\n",
       "      <td>5637.0</td>\n",
       "      <td>4.16</td>\n",
       "    </tr>\n",
       "    <tr>\n",
       "      <th>3</th>\n",
       "      <td>4</td>\n",
       "      <td>KLADNO</td>\n",
       "      <td>CENTRAL BOHEMIA</td>\n",
       "      <td>149893</td>\n",
       "      <td>63</td>\n",
       "      <td>29</td>\n",
       "      <td>6</td>\n",
       "      <td>2</td>\n",
       "      <td>6</td>\n",
       "      <td>67.4</td>\n",
       "      <td>9753</td>\n",
       "      <td>109</td>\n",
       "      <td>11136.0</td>\n",
       "      <td>9.69</td>\n",
       "    </tr>\n",
       "    <tr>\n",
       "      <th>4</th>\n",
       "      <td>5</td>\n",
       "      <td>KOLIN</td>\n",
       "      <td>CENTRAL BOHEMIA</td>\n",
       "      <td>95616</td>\n",
       "      <td>65</td>\n",
       "      <td>30</td>\n",
       "      <td>4</td>\n",
       "      <td>1</td>\n",
       "      <td>6</td>\n",
       "      <td>51.4</td>\n",
       "      <td>9307</td>\n",
       "      <td>118</td>\n",
       "      <td>5656.0</td>\n",
       "      <td>8.28</td>\n",
       "    </tr>\n",
       "  </tbody>\n",
       "</table>\n",
       "</div>"
      ],
      "text/plain": [
       "   district_code district_name           region  population  \\\n",
       "0              1   HL.M. PRAHA           PRAGUE     1204953   \n",
       "1              2       BENESOV  CENTRAL BOHEMIA       88884   \n",
       "2              3        BEROUN  CENTRAL BOHEMIA       75232   \n",
       "3              4        KLADNO  CENTRAL BOHEMIA      149893   \n",
       "4              5         KOLIN  CENTRAL BOHEMIA       95616   \n",
       "\n",
       "   no_of_municipalities_lt_499  no_of_municipalities_500_1999  \\\n",
       "0                            0                              0   \n",
       "1                           80                             26   \n",
       "2                           55                             26   \n",
       "3                           63                             29   \n",
       "4                           65                             30   \n",
       "\n",
       "   no_of_municipalities_2000_9999  no_of_municipalities_gt_10000  \\\n",
       "0                               0                              1   \n",
       "1                               6                              2   \n",
       "2                               4                              1   \n",
       "3                               6                              2   \n",
       "4                               4                              1   \n",
       "\n",
       "   no_of_cities  ratio_of_urban_inhabitants  average_salary  \\\n",
       "0             1                       100.0           12541   \n",
       "1             5                        46.7            8507   \n",
       "2             5                        41.7            8980   \n",
       "3             6                        67.4            9753   \n",
       "4             6                        51.4            9307   \n",
       "\n",
       "   no_of_entrepreneurs_per_1000  num_committed_crimes  unemployment_rate  \n",
       "0                           167              184784.0               0.72  \n",
       "1                           132                4833.0               3.52  \n",
       "2                           111                5637.0               4.16  \n",
       "3                           109               11136.0               9.69  \n",
       "4                           118                5656.0               8.28  "
      ]
     },
     "execution_count": 30,
     "metadata": {},
     "output_type": "execute_result"
    }
   ],
   "source": [
    "district.head()"
   ]
  },
  {
   "cell_type": "markdown",
   "metadata": {},
   "source": [
    "\n",
    "Use IterativeImputer in sklearn to impute based on columns population, average_salary, unemployment_rate, num_committed_crimes\n",
    "Import libraries\n",
    "Build a list of columns that will be used for imputation, which are population, average_salary, unemployment_rate, num_committed_crimes These are the columns that might be related to each other\n",
    "Create Iterative Imputer object and set its min_value and max_value parameters to be the minumum and maximum of corresponding columns\n",
    "Apply the imputer to fit and transform the columns to an imputed NumPy array\n",
    "2:36/3:31 Assign the imputed array back to the original DataFrame's columns"
   ]
  },
  {
   "cell_type": "code",
   "execution_count": 31,
   "metadata": {},
   "outputs": [],
   "source": [
    "from sklearn.experimental import enable_iterative_imputer\n",
    "from sklearn.impute import IterativeImputer\n",
    "import numpy as np"
   ]
  },
  {
   "cell_type": "code",
   "execution_count": 32,
   "metadata": {},
   "outputs": [
    {
     "name": "stderr",
     "output_type": "stream",
     "text": [
      "c:\\Users\\Om\\AppData\\Local\\Programs\\Python\\Python38\\lib\\site-packages\\numpy\\core\\fromnumeric.py:84: FutureWarning: In a future version, DataFrame.min(axis=None) will return a scalar min over the entire DataFrame. To retain the old behavior, use 'frame.min(axis=0)' or just 'frame.min()'\n",
      "  return reduction(axis=axis, out=out, **passkwargs)\n",
      "c:\\Users\\Om\\AppData\\Local\\Programs\\Python\\Python38\\lib\\site-packages\\numpy\\core\\fromnumeric.py:84: FutureWarning: In a future version, DataFrame.max(axis=None) will return a scalar max over the entire DataFrame. To retain the old behavior, use 'frame.max(axis=0)' or just 'frame.max()'\n",
      "  return reduction(axis=axis, out=out, **passkwargs)\n"
     ]
    }
   ],
   "source": [
    "# Define the columns to be imputed\n",
    "columns_to_impute = ['population', 'average_salary', 'unemployment_rate', 'num_committed_crimes']\n",
    "\n",
    "# Create Iterative Imputer object\n",
    "imputer = IterativeImputer(min_value=np.min(district[columns_to_impute]),\n",
    "                           max_value=np.max(district[columns_to_impute]))\n",
    "\n",
    "# Fit and transform the columns to an imputed NumPy array\n",
    "imputed_values = imputer.fit_transform(district[columns_to_impute])\n",
    "\n",
    "# Assign the imputed values back to the original DataFrame's columns\n",
    "district[columns_to_impute] = imputed_values\n"
   ]
  },
  {
   "cell_type": "code",
   "execution_count": 33,
   "metadata": {},
   "outputs": [
    {
     "data": {
      "text/html": [
       "<div>\n",
       "<style scoped>\n",
       "    .dataframe tbody tr th:only-of-type {\n",
       "        vertical-align: middle;\n",
       "    }\n",
       "\n",
       "    .dataframe tbody tr th {\n",
       "        vertical-align: top;\n",
       "    }\n",
       "\n",
       "    .dataframe thead th {\n",
       "        text-align: right;\n",
       "    }\n",
       "</style>\n",
       "<table border=\"1\" class=\"dataframe\">\n",
       "  <thead>\n",
       "    <tr style=\"text-align: right;\">\n",
       "      <th></th>\n",
       "      <th>population</th>\n",
       "      <th>average_salary</th>\n",
       "      <th>unemployment_rate</th>\n",
       "      <th>num_committed_crimes</th>\n",
       "    </tr>\n",
       "  </thead>\n",
       "  <tbody>\n",
       "    <tr>\n",
       "      <th>0</th>\n",
       "      <td>1204953.0</td>\n",
       "      <td>12541.0</td>\n",
       "      <td>0.72</td>\n",
       "      <td>184784.0</td>\n",
       "    </tr>\n",
       "    <tr>\n",
       "      <th>1</th>\n",
       "      <td>88884.0</td>\n",
       "      <td>8507.0</td>\n",
       "      <td>3.52</td>\n",
       "      <td>4833.0</td>\n",
       "    </tr>\n",
       "    <tr>\n",
       "      <th>2</th>\n",
       "      <td>75232.0</td>\n",
       "      <td>8980.0</td>\n",
       "      <td>4.16</td>\n",
       "      <td>5637.0</td>\n",
       "    </tr>\n",
       "    <tr>\n",
       "      <th>3</th>\n",
       "      <td>149893.0</td>\n",
       "      <td>9753.0</td>\n",
       "      <td>9.69</td>\n",
       "      <td>11136.0</td>\n",
       "    </tr>\n",
       "    <tr>\n",
       "      <th>4</th>\n",
       "      <td>95616.0</td>\n",
       "      <td>9307.0</td>\n",
       "      <td>8.28</td>\n",
       "      <td>5656.0</td>\n",
       "    </tr>\n",
       "    <tr>\n",
       "      <th>...</th>\n",
       "      <td>...</td>\n",
       "      <td>...</td>\n",
       "      <td>...</td>\n",
       "      <td>...</td>\n",
       "    </tr>\n",
       "    <tr>\n",
       "      <th>72</th>\n",
       "      <td>182027.0</td>\n",
       "      <td>8746.0</td>\n",
       "      <td>7.07</td>\n",
       "      <td>8788.0</td>\n",
       "    </tr>\n",
       "    <tr>\n",
       "      <th>73</th>\n",
       "      <td>323870.0</td>\n",
       "      <td>10673.0</td>\n",
       "      <td>10.19</td>\n",
       "      <td>37129.0</td>\n",
       "    </tr>\n",
       "    <tr>\n",
       "      <th>74</th>\n",
       "      <td>138032.0</td>\n",
       "      <td>8819.0</td>\n",
       "      <td>11.04</td>\n",
       "      <td>8568.0</td>\n",
       "    </tr>\n",
       "    <tr>\n",
       "      <th>75</th>\n",
       "      <td>127369.0</td>\n",
       "      <td>8369.0</td>\n",
       "      <td>10.61</td>\n",
       "      <td>6543.0</td>\n",
       "    </tr>\n",
       "    <tr>\n",
       "      <th>76</th>\n",
       "      <td>148545.0</td>\n",
       "      <td>8909.0</td>\n",
       "      <td>9.57</td>\n",
       "      <td>7050.0</td>\n",
       "    </tr>\n",
       "  </tbody>\n",
       "</table>\n",
       "<p>77 rows × 4 columns</p>\n",
       "</div>"
      ],
      "text/plain": [
       "    population  average_salary  unemployment_rate  num_committed_crimes\n",
       "0    1204953.0         12541.0               0.72              184784.0\n",
       "1      88884.0          8507.0               3.52                4833.0\n",
       "2      75232.0          8980.0               4.16                5637.0\n",
       "3     149893.0          9753.0               9.69               11136.0\n",
       "4      95616.0          9307.0               8.28                5656.0\n",
       "..         ...             ...                ...                   ...\n",
       "72    182027.0          8746.0               7.07                8788.0\n",
       "73    323870.0         10673.0              10.19               37129.0\n",
       "74    138032.0          8819.0              11.04                8568.0\n",
       "75    127369.0          8369.0              10.61                6543.0\n",
       "76    148545.0          8909.0               9.57                7050.0\n",
       "\n",
       "[77 rows x 4 columns]"
      ]
     },
     "execution_count": 33,
     "metadata": {},
     "output_type": "execute_result"
    }
   ],
   "source": [
    "district[columns_to_impute]"
   ]
  },
  {
   "cell_type": "code",
   "execution_count": 34,
   "metadata": {},
   "outputs": [
    {
     "data": {
      "text/plain": [
       "array([[1.20495300e+06, 1.25410000e+04, 7.20000000e-01, 1.84784000e+05],\n",
       "       [8.88840000e+04, 8.50700000e+03, 3.52000000e+00, 4.83300000e+03],\n",
       "       [7.52320000e+04, 8.98000000e+03, 4.16000000e+00, 5.63700000e+03],\n",
       "       [1.49893000e+05, 9.75300000e+03, 9.69000000e+00, 1.11360000e+04],\n",
       "       [9.56160000e+04, 9.30700000e+03, 8.28000000e+00, 5.65600000e+03],\n",
       "       [7.79630000e+04, 8.54600000e+03, 6.97000000e+00, 5.76000000e+03],\n",
       "       [9.47250000e+04, 9.92000000e+03, 5.13000000e+00, 9.13500000e+03],\n",
       "       [1.12065000e+05, 1.12770000e+04, 2.69000000e+00, 1.01660000e+04],\n",
       "       [8.13440000e+04, 8.89900000e+03, 7.36000000e+00, 5.47400000e+03],\n",
       "       [9.20840000e+04, 1.01240000e+04, 1.10000000e+00, 8.12600000e+03],\n",
       "       [7.56370000e+04, 9.62200000e+03, 1.04000000e+00, 7.00400000e+03],\n",
       "       [1.07870000e+05, 8.75400000e+03, 8.14000000e+00, 7.67200000e+03],\n",
       "       [5.39210000e+04, 8.59800000e+03, 6.03000000e+00, 3.47200000e+03],\n",
       "       [1.77686000e+05, 1.00450000e+04, 3.13000000e+00, 1.28990000e+04],\n",
       "       [5.87960000e+04, 9.04500000e+03, 6.73000000e+00, 3.72400000e+03],\n",
       "       [9.39310000e+04, 8.42700000e+03, 2.66000000e+00, 3.78700000e+03],\n",
       "       [7.40620000e+04, 8.11400000e+03, 5.00000000e+00, 2.18400000e+03],\n",
       "       [7.06990000e+04, 8.96800000e+03, 6.18000000e+00, 3.65000000e+03],\n",
       "       [5.14280000e+04, 8.40200000e+03, 7.11000000e+00, 2.09800000e+03],\n",
       "       [7.06460000e+04, 8.54700000e+03, 6.29000000e+00, 3.10500000e+03],\n",
       "       [1.03347000e+05, 9.10400000e+03, 3.58000000e+00, 4.65300000e+03],\n",
       "       [5.84000000e+04, 8.62000000e+03, 2.35000000e+00, 2.20600000e+03],\n",
       "       [8.74190000e+04, 8.62400000e+03, 4.45000000e+00, 6.07700000e+03],\n",
       "       [1.22603000e+05, 8.99100000e+03, 3.40000000e+00, 1.04710000e+04],\n",
       "       [8.87570000e+04, 8.55400000e+03, 5.15000000e+00, 4.04000000e+03],\n",
       "       [1.70449000e+05, 1.07870000e+04, 5.73000000e+00, 1.23020000e+04],\n",
       "       [6.72980000e+04, 8.56100000e+03, 1.94000000e+00, 2.15600000e+03],\n",
       "       [7.25410000e+04, 8.59400000e+03, 3.63000000e+00, 3.10500000e+03],\n",
       "       [4.57140000e+04, 8.84300000e+03, 6.42000000e+00, 1.70600000e+03],\n",
       "       [9.48120000e+04, 9.65000000e+03, 7.05000000e+00, 5.78900000e+03],\n",
       "       [5.13130000e+04, 8.93000000e+03, 7.72000000e+00, 2.78000000e+03],\n",
       "       [1.05058000e+05, 9.27200000e+03, 6.02000000e+00, 8.84500000e+03],\n",
       "       [1.33777000e+05, 8.70500000e+03, 1.33600000e+01, 9.50900000e+03],\n",
       "       [1.25236000e+05, 9.67500000e+03, 1.41100000e+01, 1.05130000e+04],\n",
       "       [8.87680000e+04, 8.86700000e+03, 2.23000000e+00, 7.00400000e+03],\n",
       "       [1.59617000e+05, 9.19800000e+03, 7.61000000e+00, 1.19280000e+04],\n",
       "       [1.14006000e+05, 9.06500000e+03, 9.85000000e+00, 8.31300000e+03],\n",
       "       [8.58520000e+04, 8.96500000e+03, 1.53100000e+01, 5.47500000e+03],\n",
       "       [1.19895000e+05, 1.04460000e+04, 1.67400000e+01, 9.69000000e+03],\n",
       "       [1.28118000e+05, 9.31700000e+03, 1.35600000e+01, 1.38210000e+04],\n",
       "       [1.18650000e+05, 9.83200000e+03, 7.80000000e+00, 1.19160000e+04],\n",
       "       [9.59070000e+04, 8.38800000e+03, 5.35000000e+00, 3.32600000e+03],\n",
       "       [1.61854000e+05, 9.42500000e+03, 4.22000000e+00, 7.97600000e+03],\n",
       "       [1.05606000e+05, 8.25400000e+03, 6.55000000e+00, 4.49100000e+03],\n",
       "       [7.79170000e+04, 8.39000000e+03, 5.17000000e+00, 4.20200000e+03],\n",
       "       [1.12709000e+05, 8.36900000e+03, 4.10000000e+00, 5.47200000e+03],\n",
       "       [1.62580000e+05, 9.53800000e+03, 3.32000000e+00, 1.14890000e+04],\n",
       "       [7.89550000e+04, 9.06000000e+03, 4.22000000e+00, 3.37200000e+03],\n",
       "       [7.56850000e+04, 8.20800000e+03, 4.15000000e+00, 3.78300000e+03],\n",
       "       [1.02609000e+05, 8.18700000e+03, 1.02800000e+01, 4.25700000e+03],\n",
       "       [1.21947000e+05, 8.54100000e+03, 5.48000000e+00, 7.33500000e+03],\n",
       "       [1.39012000e+05, 8.36300000e+03, 6.01000000e+00, 5.36300000e+03],\n",
       "       [1.07911000e+05, 8.24000000e+03, 6.09000000e+00, 3.75300000e+03],\n",
       "       [3.87570000e+05, 9.89700000e+03, 3.56000000e+00, 3.74170000e+04],\n",
       "       [1.57042000e+05, 8.74300000e+03, 4.31000000e+00, 7.55300000e+03],\n",
       "       [1.24605000e+05, 8.77200000e+03, 9.67000000e+00, 6.01200000e+03],\n",
       "       [1.61954000e+05, 8.72000000e+03, 8.23000000e+00, 7.38000000e+03],\n",
       "       [1.09164000e+05, 8.75700000e+03, 7.33000000e+00, 4.68300000e+03],\n",
       "       [1.08871000e+05, 8.44400000e+03, 6.71000000e+00, 4.90000000e+03],\n",
       "       [1.10643000e+05, 8.44100000e+03, 7.93000000e+00, 4.13100000e+03],\n",
       "       [1.17897000e+05, 8.81400000e+03, 1.05000000e+01, 4.17100000e+03],\n",
       "       [1.45688000e+05, 8.54400000e+03, 3.15000000e+00, 5.62500000e+03],\n",
       "       [8.65130000e+04, 8.28800000e+03, 8.31000000e+00, 3.02200000e+03],\n",
       "       [1.97099000e+05, 9.62400000e+03, 3.91000000e+00, 8.74900000e+03],\n",
       "       [1.14200000e+05, 8.40300000e+03, 1.14600000e+01, 4.87500000e+03],\n",
       "       [1.25832000e+05, 8.51200000e+03, 7.63000000e+00, 4.35000000e+03],\n",
       "       [1.06054000e+05, 8.11000000e+03, 1.23200000e+01, 6.32300000e+03],\n",
       "       [2.28848000e+05, 9.89300000e+03, 8.81000000e+00, 1.15100000e+04],\n",
       "       [4.28210000e+04, 8.17300000e+03, 6.15854812e+00, 1.70600000e+03],\n",
       "       [2.85387000e+05, 1.01770000e+04, 1.43800000e+01, 1.99860000e+04],\n",
       "       [1.61227000e+05, 8.67800000e+03, 1.15000000e+01, 9.57500000e+03],\n",
       "       [2.26122000e+05, 8.99400000e+03, 8.59000000e+00, 1.88800000e+04],\n",
       "       [1.82027000e+05, 8.74600000e+03, 7.07000000e+00, 8.78800000e+03],\n",
       "       [3.23870000e+05, 1.06730000e+04, 1.01900000e+01, 3.71290000e+04],\n",
       "       [1.38032000e+05, 8.81900000e+03, 1.10400000e+01, 8.56800000e+03],\n",
       "       [1.27369000e+05, 8.36900000e+03, 1.06100000e+01, 6.54300000e+03],\n",
       "       [1.48545000e+05, 8.90900000e+03, 9.57000000e+00, 7.05000000e+03]])"
      ]
     },
     "execution_count": 34,
     "metadata": {},
     "output_type": "execute_result"
    }
   ],
   "source": [
    "imputed_values"
   ]
  },
  {
   "cell_type": "markdown",
   "metadata": {},
   "source": [
    "10. Check for missing data by columns in trans using the isna method"
   ]
  },
  {
   "cell_type": "code",
   "execution_count": 35,
   "metadata": {},
   "outputs": [
    {
     "data": {
      "text/plain": [
       "trans_id           0\n",
       "account_id         0\n",
       "date               0\n",
       "type               0\n",
       "operation     183114\n",
       "amount             0\n",
       "balance            0\n",
       "k_symbol      481881\n",
       "bank          782812\n",
       "account       760931\n",
       "dtype: int64"
      ]
     },
     "execution_count": 35,
     "metadata": {},
     "output_type": "execute_result"
    }
   ],
   "source": [
    "trans.isna().sum()"
   ]
  },
  {
   "cell_type": "markdown",
   "metadata": {},
   "source": [
    "Divide the columns into numeric columns and categorical columns, then use the fillna method to fill numeric columns with -999, fill categorical columns with 'UNKNOWN'"
   ]
  },
  {
   "cell_type": "code",
   "execution_count": 36,
   "metadata": {},
   "outputs": [],
   "source": [
    "# Define categorical and numeric columns\n",
    "cat_cols = trans.select_dtypes(exclude='number').columns\n",
    "num_cols = trans.select_dtypes(include='number').columns\n",
    "\n",
    "# Fill missing values for categorical columns with 'UNKNOWN'\n",
    "trans[cat_cols] = trans[cat_cols].fillna('UNKNOWN')\n",
    "\n",
    "# Fill missing values for numeric columns with -999\n",
    "trans[num_cols] = trans[num_cols].fillna(-999)\n"
   ]
  },
  {
   "cell_type": "markdown",
   "metadata": {},
   "source": [
    "11. Check for outliers in district using the describe method, then look at the histograms of the suspicious columns"
   ]
  },
  {
   "cell_type": "code",
   "execution_count": 37,
   "metadata": {},
   "outputs": [
    {
     "data": {
      "text/html": [
       "<div>\n",
       "<style scoped>\n",
       "    .dataframe tbody tr th:only-of-type {\n",
       "        vertical-align: middle;\n",
       "    }\n",
       "\n",
       "    .dataframe tbody tr th {\n",
       "        vertical-align: top;\n",
       "    }\n",
       "\n",
       "    .dataframe thead th {\n",
       "        text-align: right;\n",
       "    }\n",
       "</style>\n",
       "<table border=\"1\" class=\"dataframe\">\n",
       "  <thead>\n",
       "    <tr style=\"text-align: right;\">\n",
       "      <th></th>\n",
       "      <th>count</th>\n",
       "      <th>mean</th>\n",
       "      <th>std</th>\n",
       "      <th>min</th>\n",
       "      <th>25%</th>\n",
       "      <th>50%</th>\n",
       "      <th>75%</th>\n",
       "      <th>max</th>\n",
       "    </tr>\n",
       "  </thead>\n",
       "  <tbody>\n",
       "    <tr>\n",
       "      <th>district_code</th>\n",
       "      <td>77.0</td>\n",
       "      <td>39.000000</td>\n",
       "      <td>22.371857</td>\n",
       "      <td>1.00</td>\n",
       "      <td>20.00</td>\n",
       "      <td>39.00</td>\n",
       "      <td>58.00</td>\n",
       "      <td>77.00</td>\n",
       "    </tr>\n",
       "    <tr>\n",
       "      <th>population</th>\n",
       "      <td>77.0</td>\n",
       "      <td>133884.896104</td>\n",
       "      <td>136913.464909</td>\n",
       "      <td>42821.00</td>\n",
       "      <td>85852.00</td>\n",
       "      <td>108871.00</td>\n",
       "      <td>139012.00</td>\n",
       "      <td>1204953.00</td>\n",
       "    </tr>\n",
       "    <tr>\n",
       "      <th>no_of_municipalities_lt_499</th>\n",
       "      <td>77.0</td>\n",
       "      <td>48.623377</td>\n",
       "      <td>32.741829</td>\n",
       "      <td>0.00</td>\n",
       "      <td>22.00</td>\n",
       "      <td>49.00</td>\n",
       "      <td>71.00</td>\n",
       "      <td>151.00</td>\n",
       "    </tr>\n",
       "    <tr>\n",
       "      <th>no_of_municipalities_500_1999</th>\n",
       "      <td>77.0</td>\n",
       "      <td>24.324675</td>\n",
       "      <td>12.780991</td>\n",
       "      <td>0.00</td>\n",
       "      <td>16.00</td>\n",
       "      <td>25.00</td>\n",
       "      <td>32.00</td>\n",
       "      <td>70.00</td>\n",
       "    </tr>\n",
       "    <tr>\n",
       "      <th>no_of_municipalities_2000_9999</th>\n",
       "      <td>77.0</td>\n",
       "      <td>6.272727</td>\n",
       "      <td>4.015222</td>\n",
       "      <td>0.00</td>\n",
       "      <td>4.00</td>\n",
       "      <td>6.00</td>\n",
       "      <td>8.00</td>\n",
       "      <td>20.00</td>\n",
       "    </tr>\n",
       "    <tr>\n",
       "      <th>no_of_municipalities_gt_10000</th>\n",
       "      <td>77.0</td>\n",
       "      <td>1.727273</td>\n",
       "      <td>1.008338</td>\n",
       "      <td>0.00</td>\n",
       "      <td>1.00</td>\n",
       "      <td>2.00</td>\n",
       "      <td>2.00</td>\n",
       "      <td>5.00</td>\n",
       "    </tr>\n",
       "    <tr>\n",
       "      <th>no_of_cities</th>\n",
       "      <td>77.0</td>\n",
       "      <td>6.259740</td>\n",
       "      <td>2.435497</td>\n",
       "      <td>1.00</td>\n",
       "      <td>5.00</td>\n",
       "      <td>6.00</td>\n",
       "      <td>8.00</td>\n",
       "      <td>11.00</td>\n",
       "    </tr>\n",
       "    <tr>\n",
       "      <th>ratio_of_urban_inhabitants</th>\n",
       "      <td>77.0</td>\n",
       "      <td>63.035065</td>\n",
       "      <td>16.221727</td>\n",
       "      <td>33.90</td>\n",
       "      <td>51.90</td>\n",
       "      <td>59.80</td>\n",
       "      <td>73.50</td>\n",
       "      <td>100.00</td>\n",
       "    </tr>\n",
       "    <tr>\n",
       "      <th>average_salary</th>\n",
       "      <td>77.0</td>\n",
       "      <td>9031.675325</td>\n",
       "      <td>790.202347</td>\n",
       "      <td>8110.00</td>\n",
       "      <td>8512.00</td>\n",
       "      <td>8814.00</td>\n",
       "      <td>9317.00</td>\n",
       "      <td>12541.00</td>\n",
       "    </tr>\n",
       "    <tr>\n",
       "      <th>no_of_entrepreneurs_per_1000</th>\n",
       "      <td>77.0</td>\n",
       "      <td>116.129870</td>\n",
       "      <td>16.608773</td>\n",
       "      <td>81.00</td>\n",
       "      <td>105.00</td>\n",
       "      <td>113.00</td>\n",
       "      <td>126.00</td>\n",
       "      <td>167.00</td>\n",
       "    </tr>\n",
       "    <tr>\n",
       "      <th>num_committed_crimes</th>\n",
       "      <td>77.0</td>\n",
       "      <td>9822.675325</td>\n",
       "      <td>21099.056971</td>\n",
       "      <td>1706.00</td>\n",
       "      <td>4131.00</td>\n",
       "      <td>5789.00</td>\n",
       "      <td>9135.00</td>\n",
       "      <td>184784.00</td>\n",
       "    </tr>\n",
       "    <tr>\n",
       "      <th>unemployment_rate</th>\n",
       "      <td>77.0</td>\n",
       "      <td>6.854786</td>\n",
       "      <td>3.511077</td>\n",
       "      <td>0.72</td>\n",
       "      <td>4.16</td>\n",
       "      <td>6.42</td>\n",
       "      <td>8.59</td>\n",
       "      <td>16.74</td>\n",
       "    </tr>\n",
       "  </tbody>\n",
       "</table>\n",
       "</div>"
      ],
      "text/plain": [
       "                                count           mean            std       min  \\\n",
       "district_code                    77.0      39.000000      22.371857      1.00   \n",
       "population                       77.0  133884.896104  136913.464909  42821.00   \n",
       "no_of_municipalities_lt_499      77.0      48.623377      32.741829      0.00   \n",
       "no_of_municipalities_500_1999    77.0      24.324675      12.780991      0.00   \n",
       "no_of_municipalities_2000_9999   77.0       6.272727       4.015222      0.00   \n",
       "no_of_municipalities_gt_10000    77.0       1.727273       1.008338      0.00   \n",
       "no_of_cities                     77.0       6.259740       2.435497      1.00   \n",
       "ratio_of_urban_inhabitants       77.0      63.035065      16.221727     33.90   \n",
       "average_salary                   77.0    9031.675325     790.202347   8110.00   \n",
       "no_of_entrepreneurs_per_1000     77.0     116.129870      16.608773     81.00   \n",
       "num_committed_crimes             77.0    9822.675325   21099.056971   1706.00   \n",
       "unemployment_rate                77.0       6.854786       3.511077      0.72   \n",
       "\n",
       "                                     25%        50%        75%         max  \n",
       "district_code                      20.00      39.00      58.00       77.00  \n",
       "population                      85852.00  108871.00  139012.00  1204953.00  \n",
       "no_of_municipalities_lt_499        22.00      49.00      71.00      151.00  \n",
       "no_of_municipalities_500_1999      16.00      25.00      32.00       70.00  \n",
       "no_of_municipalities_2000_9999      4.00       6.00       8.00       20.00  \n",
       "no_of_municipalities_gt_10000       1.00       2.00       2.00        5.00  \n",
       "no_of_cities                        5.00       6.00       8.00       11.00  \n",
       "ratio_of_urban_inhabitants         51.90      59.80      73.50      100.00  \n",
       "average_salary                   8512.00    8814.00    9317.00    12541.00  \n",
       "no_of_entrepreneurs_per_1000      105.00     113.00     126.00      167.00  \n",
       "num_committed_crimes             4131.00    5789.00    9135.00   184784.00  \n",
       "unemployment_rate                   4.16       6.42       8.59       16.74  "
      ]
     },
     "execution_count": 37,
     "metadata": {},
     "output_type": "execute_result"
    }
   ],
   "source": [
    "district.describe().T"
   ]
  },
  {
   "cell_type": "code",
   "execution_count": 56,
   "metadata": {},
   "outputs": [
    {
     "data": {
      "text/plain": [
       "Index(['district_code', 'population', 'no_of_municipalities_lt_499',\n",
       "       'no_of_municipalities_500_1999', 'no_of_municipalities_2000_9999',\n",
       "       'no_of_municipalities_gt_10000', 'no_of_cities',\n",
       "       'ratio_of_urban_inhabitants', 'average_salary',\n",
       "       'no_of_entrepreneurs_per_1000', 'num_committed_crimes',\n",
       "       'unemployment_rate'],\n",
       "      dtype='object')"
      ]
     },
     "execution_count": 56,
     "metadata": {},
     "output_type": "execute_result"
    }
   ],
   "source": [
    "num_cols_dis = district.select_dtypes(include='number').columns\n",
    "num_cols_dis"
   ]
  },
  {
   "cell_type": "code",
   "execution_count": 82,
   "metadata": {},
   "outputs": [
    {
     "data": {
      "text/plain": [
       "array([[<matplotlib.axes._subplots.AxesSubplot object at 0x0000021743213FA0>,\n",
       "        <matplotlib.axes._subplots.AxesSubplot object at 0x0000021744B35160>,\n",
       "        <matplotlib.axes._subplots.AxesSubplot object at 0x0000021744BAAE20>],\n",
       "       [<matplotlib.axes._subplots.AxesSubplot object at 0x0000021744B0A040>,\n",
       "        <matplotlib.axes._subplots.AxesSubplot object at 0x0000021744D95CA0>,\n",
       "        <matplotlib.axes._subplots.AxesSubplot object at 0x000002174AE7FFA0>],\n",
       "       [<matplotlib.axes._subplots.AxesSubplot object at 0x000002174AEAAFD0>,\n",
       "        <matplotlib.axes._subplots.AxesSubplot object at 0x000002174AF1DC40>,\n",
       "        <matplotlib.axes._subplots.AxesSubplot object at 0x000002174B096A60>],\n",
       "       [<matplotlib.axes._subplots.AxesSubplot object at 0x000002174B17D1F0>,\n",
       "        <matplotlib.axes._subplots.AxesSubplot object at 0x000002174B21BD30>,\n",
       "        <matplotlib.axes._subplots.AxesSubplot object at 0x000002174B1350D0>]],\n",
       "      dtype=object)"
      ]
     },
     "execution_count": 82,
     "metadata": {},
     "output_type": "execute_result"
    },
    {
     "data": {
      "image/png": "[encoded data removed]",
      "text/plain": [
       "<Figure size 2000x3000 with 12 Axes>"
      ]
     },
     "metadata": {},
     "output_type": "display_data"
    }
   ],
   "source": [
    "num_cols_dis\n",
    "district[num_cols_dis].hist(figsize=(20,30))\n",
    "\n",
    "\n"
   ]
  },
  {
   "cell_type": "markdown",
   "metadata": {},
   "source": [
    "in the above image , the outlier containing column are \n",
    "population\n",
    "average_salary\n",
    "num_commited_crimes\n",
    "\n",
    "you can see in the below boxplots"
   ]
  },
  {
   "cell_type": "code",
   "execution_count": 84,
   "metadata": {},
   "outputs": [
    {
     "data": {
      "text/plain": [
       "<matplotlib.axes._subplots.AxesSubplot at 0x217436a4910>"
      ]
     },
     "execution_count": 84,
     "metadata": {},
     "output_type": "execute_result"
    },
    {
     "data": {
      "image/png": "[encoded data removed]",
      "text/plain": [
       "<Figure size 640x480 with 1 Axes>"
      ]
     },
     "metadata": {},
     "output_type": "display_data"
    }
   ],
   "source": [
    "district.boxplot('population')"
   ]
  },
  {
   "cell_type": "code",
   "execution_count": 85,
   "metadata": {},
   "outputs": [
    {
     "data": {
      "text/plain": [
       "<matplotlib.axes._subplots.AxesSubplot at 0x2174366b9a0>"
      ]
     },
     "execution_count": 85,
     "metadata": {},
     "output_type": "execute_result"
    },
    {
     "data": {
      "image/png": "[encoded data removed]",
      "text/plain": [
       "<Figure size 640x480 with 1 Axes>"
      ]
     },
     "metadata": {},
     "output_type": "display_data"
    }
   ],
   "source": [
    "district.boxplot('average_salary')"
   ]
  },
  {
   "cell_type": "code",
   "execution_count": 87,
   "metadata": {},
   "outputs": [
    {
     "data": {
      "text/plain": [
       "<matplotlib.axes._subplots.AxesSubplot at 0x21740bf8a60>"
      ]
     },
     "execution_count": 87,
     "metadata": {},
     "output_type": "execute_result"
    },
    {
     "data": {
      "image/png": "[encoded data removed]",
      "text/plain": [
       "<Figure size 640x480 with 1 Axes>"
      ]
     },
     "metadata": {},
     "output_type": "display_data"
    }
   ],
   "source": [
    "district.boxplot('num_committed_crimes')"
   ]
  },
  {
   "cell_type": "markdown",
   "metadata": {},
   "source": [
    "removing ouliers"
   ]
  },
  {
   "cell_type": "code",
   "execution_count": 122,
   "metadata": {},
   "outputs": [
    {
     "name": "stdout",
     "output_type": "stream",
     "text": [
      "8475.5 9151.0 675.5\n"
     ]
    }
   ],
   "source": [
    "q1 = district['average_salary'].quantile(0.25)\n",
    "q3 = district['average_salary'].quantile(0.75)\n",
    "\n",
    "iqr = q3-q1\n",
    "print(q1,q3,iqr)"
   ]
  },
  {
   "cell_type": "code",
   "execution_count": 123,
   "metadata": {},
   "outputs": [],
   "source": [
    "# outliers are the values below q1-1.5*iqr / q3+1.5*iqr\n",
    "\n",
    "outlier_low = q1-1.5*iqr"
   ]
  },
  {
   "cell_type": "code",
   "execution_count": 124,
   "metadata": {},
   "outputs": [],
   "source": [
    "outlier_high = (q3+1.5*iqr)"
   ]
  },
  {
   "cell_type": "code",
   "execution_count": 125,
   "metadata": {},
   "outputs": [
    {
     "data": {
      "text/plain": [
       "8369.0    2\n",
       "8507.0    1\n",
       "8363.0    1\n",
       "8541.0    1\n",
       "8187.0    1\n",
       "         ..\n",
       "8930.0    1\n",
       "9272.0    1\n",
       "8705.0    1\n",
       "9675.0    1\n",
       "8909.0    1\n",
       "Name: average_salary, Length: 70, dtype: int64"
      ]
     },
     "execution_count": 125,
     "metadata": {},
     "output_type": "execute_result"
    }
   ],
   "source": [
    "district['average_salary'].value_counts()"
   ]
  },
  {
   "cell_type": "code",
   "execution_count": 126,
   "metadata": {},
   "outputs": [],
   "source": [
    "msk = (district['average_salary']<outlier_low) | (district['average_salary']>outlier_high)"
   ]
  },
  {
   "cell_type": "code",
   "execution_count": 127,
   "metadata": {},
   "outputs": [],
   "source": [
    "district = district[~msk]"
   ]
  },
  {
   "cell_type": "code",
   "execution_count": 128,
   "metadata": {},
   "outputs": [
    {
     "data": {
      "text/plain": [
       "8369.0    2\n",
       "8507.0    1\n",
       "8772.0    1\n",
       "9832.0    1\n",
       "8388.0    1\n",
       "         ..\n",
       "9272.0    1\n",
       "8705.0    1\n",
       "9675.0    1\n",
       "8867.0    1\n",
       "8909.0    1\n",
       "Name: average_salary, Length: 67, dtype: int64"
      ]
     },
     "execution_count": 128,
     "metadata": {},
     "output_type": "execute_result"
    }
   ],
   "source": [
    "district['average_salary'].value_counts()\n",
    "# note 3 entries got dropped now"
   ]
  },
  {
   "cell_type": "markdown",
   "metadata": {},
   "source": [
    "11. Check for outliers in trans using the describe method, then look at the histograms of the suspicious columns"
   ]
  },
  {
   "cell_type": "code",
   "execution_count": 129,
   "metadata": {},
   "outputs": [
    {
     "data": {
      "text/html": [
       "<div>\n",
       "<style scoped>\n",
       "    .dataframe tbody tr th:only-of-type {\n",
       "        vertical-align: middle;\n",
       "    }\n",
       "\n",
       "    .dataframe tbody tr th {\n",
       "        vertical-align: top;\n",
       "    }\n",
       "\n",
       "    .dataframe thead th {\n",
       "        text-align: right;\n",
       "    }\n",
       "</style>\n",
       "<table border=\"1\" class=\"dataframe\">\n",
       "  <thead>\n",
       "    <tr style=\"text-align: right;\">\n",
       "      <th></th>\n",
       "      <th>count</th>\n",
       "      <th>mean</th>\n",
       "      <th>std</th>\n",
       "      <th>min</th>\n",
       "      <th>25%</th>\n",
       "      <th>50%</th>\n",
       "      <th>75%</th>\n",
       "      <th>max</th>\n",
       "    </tr>\n",
       "  </thead>\n",
       "  <tbody>\n",
       "    <tr>\n",
       "      <th>trans_id</th>\n",
       "      <td>1056320.0</td>\n",
       "      <td>1.335311e+06</td>\n",
       "      <td>1.227487e+06</td>\n",
       "      <td>1.0</td>\n",
       "      <td>430262.75</td>\n",
       "      <td>858506.5</td>\n",
       "      <td>2060979.250</td>\n",
       "      <td>3682987.0</td>\n",
       "    </tr>\n",
       "    <tr>\n",
       "      <th>account_id</th>\n",
       "      <td>1056320.0</td>\n",
       "      <td>2.936867e+03</td>\n",
       "      <td>2.477345e+03</td>\n",
       "      <td>1.0</td>\n",
       "      <td>1204.00</td>\n",
       "      <td>2434.0</td>\n",
       "      <td>3660.000</td>\n",
       "      <td>11382.0</td>\n",
       "    </tr>\n",
       "    <tr>\n",
       "      <th>amount</th>\n",
       "      <td>1056320.0</td>\n",
       "      <td>5.924146e+03</td>\n",
       "      <td>9.522735e+03</td>\n",
       "      <td>0.0</td>\n",
       "      <td>135.90</td>\n",
       "      <td>2100.0</td>\n",
       "      <td>6800.000</td>\n",
       "      <td>87400.0</td>\n",
       "    </tr>\n",
       "    <tr>\n",
       "      <th>balance</th>\n",
       "      <td>1056320.0</td>\n",
       "      <td>3.851833e+04</td>\n",
       "      <td>2.211787e+04</td>\n",
       "      <td>-41125.7</td>\n",
       "      <td>22402.50</td>\n",
       "      <td>33143.4</td>\n",
       "      <td>49603.625</td>\n",
       "      <td>209637.0</td>\n",
       "    </tr>\n",
       "    <tr>\n",
       "      <th>account</th>\n",
       "      <td>1056320.0</td>\n",
       "      <td>1.277068e+07</td>\n",
       "      <td>2.613658e+07</td>\n",
       "      <td>-999.0</td>\n",
       "      <td>-999.00</td>\n",
       "      <td>-999.0</td>\n",
       "      <td>3410566.000</td>\n",
       "      <td>99994199.0</td>\n",
       "    </tr>\n",
       "  </tbody>\n",
       "</table>\n",
       "</div>"
      ],
      "text/plain": [
       "                count          mean           std      min        25%  \\\n",
       "trans_id    1056320.0  1.335311e+06  1.227487e+06      1.0  430262.75   \n",
       "account_id  1056320.0  2.936867e+03  2.477345e+03      1.0    1204.00   \n",
       "amount      1056320.0  5.924146e+03  9.522735e+03      0.0     135.90   \n",
       "balance     1056320.0  3.851833e+04  2.211787e+04 -41125.7   22402.50   \n",
       "account     1056320.0  1.277068e+07  2.613658e+07   -999.0    -999.00   \n",
       "\n",
       "                 50%          75%         max  \n",
       "trans_id    858506.5  2060979.250   3682987.0  \n",
       "account_id    2434.0     3660.000     11382.0  \n",
       "amount        2100.0     6800.000     87400.0  \n",
       "balance      33143.4    49603.625    209637.0  \n",
       "account       -999.0  3410566.000  99994199.0  "
      ]
     },
     "execution_count": 129,
     "metadata": {},
     "output_type": "execute_result"
    }
   ],
   "source": [
    "trans.describe().T"
   ]
  },
  {
   "cell_type": "code",
   "execution_count": 131,
   "metadata": {},
   "outputs": [
    {
     "data": {
      "text/plain": [
       "array([[<matplotlib.axes._subplots.AxesSubplot object at 0x00000217503939A0>,\n",
       "        <matplotlib.axes._subplots.AxesSubplot object at 0x000002174097E9A0>],\n",
       "       [<matplotlib.axes._subplots.AxesSubplot object at 0x000002173FCD6E20>,\n",
       "        <matplotlib.axes._subplots.AxesSubplot object at 0x000002174074A820>],\n",
       "       [<matplotlib.axes._subplots.AxesSubplot object at 0x00000217407E9D60>,\n",
       "        <matplotlib.axes._subplots.AxesSubplot object at 0x00000217409F1040>]],\n",
       "      dtype=object)"
      ]
     },
     "execution_count": 131,
     "metadata": {},
     "output_type": "execute_result"
    },
    {
     "data": {
      "image/png": "[encoded data removed]",
      "text/plain": [
       "<Figure size 2000x3000 with 6 Axes>"
      ]
     },
     "metadata": {},
     "output_type": "display_data"
    }
   ],
   "source": [
    "trans.hist(figsize=(20,30))"
   ]
  },
  {
   "cell_type": "code",
   "execution_count": 132,
   "metadata": {},
   "outputs": [
    {
     "data": {
      "text/plain": [
       "<matplotlib.axes._subplots.AxesSubplot at 0x2174322f940>"
      ]
     },
     "execution_count": 132,
     "metadata": {},
     "output_type": "execute_result"
    },
    {
     "data": {
      "image/png": "[encoded data removed]",
      "text/plain": [
       "<Figure size 640x480 with 1 Axes>"
      ]
     },
     "metadata": {},
     "output_type": "display_data"
    }
   ],
   "source": [
    "trans.boxplot('amount')"
   ]
  },
  {
   "cell_type": "code",
   "execution_count": 133,
   "metadata": {},
   "outputs": [
    {
     "data": {
      "text/plain": [
       "<matplotlib.axes._subplots.AxesSubplot at 0x21751468eb0>"
      ]
     },
     "execution_count": 133,
     "metadata": {},
     "output_type": "execute_result"
    },
    {
     "data": {
      "image/png": "[encoded data removed]",
      "text/plain": [
       "<Figure size 640x480 with 1 Axes>"
      ]
     },
     "metadata": {},
     "output_type": "display_data"
    }
   ],
   "source": [
    "trans.boxplot('balance')"
   ]
  },
  {
   "cell_type": "code",
   "execution_count": 136,
   "metadata": {},
   "outputs": [
    {
     "data": {
      "text/plain": [
       "300        111071.7\n",
       "873        125825.7\n",
       "1286       134571.2\n",
       "1301       127661.8\n",
       "1606       120512.8\n",
       "             ...   \n",
       "1056122    121828.0\n",
       "1056146    109173.0\n",
       "1056149    117210.5\n",
       "1056181    109574.6\n",
       "1056215    108432.0\n",
       "Name: balance, Length: 10564, dtype: float64"
      ]
     },
     "execution_count": 136,
     "metadata": {},
     "output_type": "execute_result"
    }
   ],
   "source": [
    "p99 = trans['balance'].quantile(0.99)\n",
    "\n",
    "trans.loc[trans['balance']>p99,'balance']"
   ]
  },
  {
   "cell_type": "code",
   "execution_count": 149,
   "metadata": {},
   "outputs": [],
   "source": [
    "q1 = trans['balance'].quantile(0.25)\n",
    "q3 = trans['balance'].quantile(0.75)\n",
    "iqr = q3 - q1 #Interquartile range\n",
    "LOWER_BOND = q1 -(1.5* iqr)\n",
    "UPPER_BOND= q3 + (1.5 * iqr)\n"
   ]
  },
  {
   "cell_type": "markdown",
   "metadata": {},
   "source": [
    "imputing with statistics "
   ]
  },
  {
   "cell_type": "code",
   "execution_count": 150,
   "metadata": {},
   "outputs": [],
   "source": [
    "# for numeric ---> mean,median\n",
    "# fir catogorical --> mode \n",
    "\n",
    "tran_num_cols = trans.select_dtypes(include='number').columns\n",
    "tran_cat_cols = trans.select_dtypes(exclude='number').columns\n"
   ]
  },
  {
   "cell_type": "code",
   "execution_count": 148,
   "metadata": {},
   "outputs": [
    {
     "data": {
      "text/html": [
       "<div>\n",
       "<style scoped>\n",
       "    .dataframe tbody tr th:only-of-type {\n",
       "        vertical-align: middle;\n",
       "    }\n",
       "\n",
       "    .dataframe tbody tr th {\n",
       "        vertical-align: top;\n",
       "    }\n",
       "\n",
       "    .dataframe thead th {\n",
       "        text-align: right;\n",
       "    }\n",
       "</style>\n",
       "<table border=\"1\" class=\"dataframe\">\n",
       "  <thead>\n",
       "    <tr style=\"text-align: right;\">\n",
       "      <th></th>\n",
       "      <th>count</th>\n",
       "      <th>mean</th>\n",
       "      <th>std</th>\n",
       "      <th>min</th>\n",
       "      <th>25%</th>\n",
       "      <th>50%</th>\n",
       "      <th>75%</th>\n",
       "      <th>max</th>\n",
       "    </tr>\n",
       "  </thead>\n",
       "  <tbody>\n",
       "    <tr>\n",
       "      <th>trans_id</th>\n",
       "      <td>1056320.0</td>\n",
       "      <td>1.335311e+06</td>\n",
       "      <td>1.227487e+06</td>\n",
       "      <td>1.0</td>\n",
       "      <td>430262.75</td>\n",
       "      <td>858506.5</td>\n",
       "      <td>2060979.250</td>\n",
       "      <td>3682987.0</td>\n",
       "    </tr>\n",
       "    <tr>\n",
       "      <th>account_id</th>\n",
       "      <td>1056320.0</td>\n",
       "      <td>2.936867e+03</td>\n",
       "      <td>2.477345e+03</td>\n",
       "      <td>1.0</td>\n",
       "      <td>1204.00</td>\n",
       "      <td>2434.0</td>\n",
       "      <td>3660.000</td>\n",
       "      <td>11382.0</td>\n",
       "    </tr>\n",
       "    <tr>\n",
       "      <th>amount</th>\n",
       "      <td>1056320.0</td>\n",
       "      <td>5.924146e+03</td>\n",
       "      <td>9.522735e+03</td>\n",
       "      <td>0.0</td>\n",
       "      <td>135.90</td>\n",
       "      <td>2100.0</td>\n",
       "      <td>6800.000</td>\n",
       "      <td>87400.0</td>\n",
       "    </tr>\n",
       "    <tr>\n",
       "      <th>balance</th>\n",
       "      <td>1056320.0</td>\n",
       "      <td>3.851833e+04</td>\n",
       "      <td>2.211787e+04</td>\n",
       "      <td>-41125.7</td>\n",
       "      <td>22402.50</td>\n",
       "      <td>33143.4</td>\n",
       "      <td>49603.625</td>\n",
       "      <td>209637.0</td>\n",
       "    </tr>\n",
       "    <tr>\n",
       "      <th>account</th>\n",
       "      <td>1056320.0</td>\n",
       "      <td>1.277068e+07</td>\n",
       "      <td>2.613658e+07</td>\n",
       "      <td>-999.0</td>\n",
       "      <td>-999.00</td>\n",
       "      <td>-999.0</td>\n",
       "      <td>3410566.000</td>\n",
       "      <td>99994199.0</td>\n",
       "    </tr>\n",
       "  </tbody>\n",
       "</table>\n",
       "</div>"
      ],
      "text/plain": [
       "                count          mean           std      min        25%  \\\n",
       "trans_id    1056320.0  1.335311e+06  1.227487e+06      1.0  430262.75   \n",
       "account_id  1056320.0  2.936867e+03  2.477345e+03      1.0    1204.00   \n",
       "amount      1056320.0  5.924146e+03  9.522735e+03      0.0     135.90   \n",
       "balance     1056320.0  3.851833e+04  2.211787e+04 -41125.7   22402.50   \n",
       "account     1056320.0  1.277068e+07  2.613658e+07   -999.0    -999.00   \n",
       "\n",
       "                 50%          75%         max  \n",
       "trans_id    858506.5  2060979.250   3682987.0  \n",
       "account_id    2434.0     3660.000     11382.0  \n",
       "amount        2100.0     6800.000     87400.0  \n",
       "balance      33143.4    49603.625    209637.0  \n",
       "account       -999.0  3410566.000  99994199.0  "
      ]
     },
     "execution_count": 148,
     "metadata": {},
     "output_type": "execute_result"
    }
   ],
   "source": [
    "trans[tran_num_cols] = trans[tran_num_cols].fillna(trans[tran_num_cols].median())\n",
    "\n",
    "trans[tran_num_cols].describe().T"
   ]
  },
  {
   "cell_type": "markdown",
   "metadata": {},
   "source": [
    "13. Merge (left join) account and district into a new DataFrame called account_district using their common columns"
   ]
  },
  {
   "cell_type": "code",
   "execution_count": 156,
   "metadata": {},
   "outputs": [
    {
     "data": {
      "text/plain": [
       "0       55\n",
       "1       74\n",
       "2       55\n",
       "3       16\n",
       "4       24\n",
       "        ..\n",
       "4495    55\n",
       "4496    59\n",
       "4497    30\n",
       "4498    63\n",
       "4499     1\n",
       "Name: district_id, Length: 4500, dtype: int64"
      ]
     },
     "execution_count": 156,
     "metadata": {},
     "output_type": "execute_result"
    }
   ],
   "source": [
    "account['district_id']"
   ]
  },
  {
   "cell_type": "code",
   "execution_count": 158,
   "metadata": {},
   "outputs": [
    {
     "data": {
      "text/plain": [
       "1      2\n",
       "2      3\n",
       "3      4\n",
       "4      5\n",
       "5      6\n",
       "      ..\n",
       "70    71\n",
       "72    73\n",
       "74    75\n",
       "75    76\n",
       "76    77\n",
       "Name: district_code, Length: 68, dtype: int64"
      ]
     },
     "execution_count": 158,
     "metadata": {},
     "output_type": "execute_result"
    }
   ],
   "source": [
    "district['district_code']"
   ]
  },
  {
   "cell_type": "code",
   "execution_count": 159,
   "metadata": {},
   "outputs": [],
   "source": [
    "account_district = pd.merge(left=account,right=district,left_on='district_id',right_on='district_code',how='left')"
   ]
  },
  {
   "cell_type": "markdown",
   "metadata": {},
   "source": [
    "14. Check the information summary of account_district, any missing data?\n"
   ]
  },
  {
   "cell_type": "code",
   "execution_count": 169,
   "metadata": {},
   "outputs": [
    {
     "data": {
      "text/plain": [
       "account_id                           0\n",
       "district_id                          0\n",
       "frequency                            0\n",
       "date                                 0\n",
       "district_code                     1282\n",
       "district_name                     1282\n",
       "region                            1282\n",
       "population                        1282\n",
       "no_of_municipalities_lt_499       1282\n",
       "no_of_municipalities_500_1999     1282\n",
       "no_of_municipalities_2000_9999    1282\n",
       "no_of_municipalities_gt_10000     1282\n",
       "no_of_cities                      1282\n",
       "ratio_of_urban_inhabitants        1282\n",
       "average_salary                    1282\n",
       "no_of_entrepreneurs_per_1000      1282\n",
       "num_committed_crimes              1282\n",
       "unemployment_rate                 1282\n",
       "dtype: int64"
      ]
     },
     "execution_count": 169,
     "metadata": {},
     "output_type": "execute_result"
    }
   ],
   "source": [
    "account_district.isna().sum()"
   ]
  },
  {
   "cell_type": "markdown",
   "metadata": {},
   "source": [
    "Look at the rows with missing data in account_district\n"
   ]
  },
  {
   "cell_type": "code",
   "execution_count": 178,
   "metadata": {},
   "outputs": [],
   "source": [
    "row_missing_data = account_district.isna().any(axis=1\n",
    "                                         )"
   ]
  },
  {
   "cell_type": "code",
   "execution_count": 179,
   "metadata": {},
   "outputs": [
    {
     "data": {
      "text/plain": [
       "0       False\n",
       "1        True\n",
       "2       False\n",
       "3       False\n",
       "4       False\n",
       "        ...  \n",
       "4495    False\n",
       "4496    False\n",
       "4497    False\n",
       "4498    False\n",
       "4499     True\n",
       "Length: 4500, dtype: bool"
      ]
     },
     "execution_count": 179,
     "metadata": {},
     "output_type": "execute_result"
    }
   ],
   "source": [
    "row_missing_data"
   ]
  },
  {
   "cell_type": "markdown",
   "metadata": {},
   "source": [
    "Use SimpleImputer from sklearn to impute the missing data in columns population, average_salary, unemployment_rate, num_committed_crimes with their\n",
    "means\n"
   ]
  },
  {
   "cell_type": "code",
   "execution_count": 185,
   "metadata": {},
   "outputs": [],
   "source": [
    "from sklearn.impute import SimpleImputer \n",
    "\n",
    "columns_to_impute = ['population', 'average_salary', 'unemployment_rate', 'num_committed_crimes']\n",
    "\n",
    "simple_imp_num = SimpleImputer(strategy='mean')\n",
    "\n",
    "\n",
    "# Fit and transform the columns to an imputed NumPy array\n",
    "imputed_values = simple_imp_num.fit_transform(account_district[columns_to_impute])\n",
    "\n",
    "# Assign the imputed values back to the original DataFrame's columns\n",
    "account_district[columns_to_impute] = imputed_values"
   ]
  },
  {
   "cell_type": "code",
   "execution_count": 186,
   "metadata": {},
   "outputs": [
    {
     "data": {
      "text/html": [
       "<div>\n",
       "<style scoped>\n",
       "    .dataframe tbody tr th:only-of-type {\n",
       "        vertical-align: middle;\n",
       "    }\n",
       "\n",
       "    .dataframe tbody tr th {\n",
       "        vertical-align: top;\n",
       "    }\n",
       "\n",
       "    .dataframe thead th {\n",
       "        text-align: right;\n",
       "    }\n",
       "</style>\n",
       "<table border=\"1\" class=\"dataframe\">\n",
       "  <thead>\n",
       "    <tr style=\"text-align: right;\">\n",
       "      <th></th>\n",
       "      <th>population</th>\n",
       "      <th>average_salary</th>\n",
       "      <th>unemployment_rate</th>\n",
       "      <th>num_committed_crimes</th>\n",
       "    </tr>\n",
       "  </thead>\n",
       "  <tbody>\n",
       "    <tr>\n",
       "      <th>0</th>\n",
       "      <td>157042.000000</td>\n",
       "      <td>8743.000000</td>\n",
       "      <td>4.31000</td>\n",
       "      <td>7553.000000</td>\n",
       "    </tr>\n",
       "    <tr>\n",
       "      <th>1</th>\n",
       "      <td>108634.410193</td>\n",
       "      <td>8843.481976</td>\n",
       "      <td>6.67899</td>\n",
       "      <td>6150.452144</td>\n",
       "    </tr>\n",
       "    <tr>\n",
       "      <th>2</th>\n",
       "      <td>157042.000000</td>\n",
       "      <td>8743.000000</td>\n",
       "      <td>4.31000</td>\n",
       "      <td>7553.000000</td>\n",
       "    </tr>\n",
       "    <tr>\n",
       "      <th>3</th>\n",
       "      <td>93931.000000</td>\n",
       "      <td>8427.000000</td>\n",
       "      <td>2.66000</td>\n",
       "      <td>3787.000000</td>\n",
       "    </tr>\n",
       "    <tr>\n",
       "      <th>4</th>\n",
       "      <td>122603.000000</td>\n",
       "      <td>8991.000000</td>\n",
       "      <td>3.40000</td>\n",
       "      <td>10471.000000</td>\n",
       "    </tr>\n",
       "    <tr>\n",
       "      <th>...</th>\n",
       "      <td>...</td>\n",
       "      <td>...</td>\n",
       "      <td>...</td>\n",
       "      <td>...</td>\n",
       "    </tr>\n",
       "    <tr>\n",
       "      <th>4495</th>\n",
       "      <td>157042.000000</td>\n",
       "      <td>8743.000000</td>\n",
       "      <td>4.31000</td>\n",
       "      <td>7553.000000</td>\n",
       "    </tr>\n",
       "    <tr>\n",
       "      <th>4496</th>\n",
       "      <td>108871.000000</td>\n",
       "      <td>8444.000000</td>\n",
       "      <td>6.71000</td>\n",
       "      <td>4900.000000</td>\n",
       "    </tr>\n",
       "    <tr>\n",
       "      <th>4497</th>\n",
       "      <td>94812.000000</td>\n",
       "      <td>9650.000000</td>\n",
       "      <td>7.05000</td>\n",
       "      <td>5789.000000</td>\n",
       "    </tr>\n",
       "    <tr>\n",
       "      <th>4498</th>\n",
       "      <td>86513.000000</td>\n",
       "      <td>8288.000000</td>\n",
       "      <td>8.31000</td>\n",
       "      <td>3022.000000</td>\n",
       "    </tr>\n",
       "    <tr>\n",
       "      <th>4499</th>\n",
       "      <td>108634.410193</td>\n",
       "      <td>8843.481976</td>\n",
       "      <td>6.67899</td>\n",
       "      <td>6150.452144</td>\n",
       "    </tr>\n",
       "  </tbody>\n",
       "</table>\n",
       "<p>4500 rows × 4 columns</p>\n",
       "</div>"
      ],
      "text/plain": [
       "         population  average_salary  unemployment_rate  num_committed_crimes\n",
       "0     157042.000000     8743.000000            4.31000           7553.000000\n",
       "1     108634.410193     8843.481976            6.67899           6150.452144\n",
       "2     157042.000000     8743.000000            4.31000           7553.000000\n",
       "3      93931.000000     8427.000000            2.66000           3787.000000\n",
       "4     122603.000000     8991.000000            3.40000          10471.000000\n",
       "...             ...             ...                ...                   ...\n",
       "4495  157042.000000     8743.000000            4.31000           7553.000000\n",
       "4496  108871.000000     8444.000000            6.71000           4900.000000\n",
       "4497   94812.000000     9650.000000            7.05000           5789.000000\n",
       "4498   86513.000000     8288.000000            8.31000           3022.000000\n",
       "4499  108634.410193     8843.481976            6.67899           6150.452144\n",
       "\n",
       "[4500 rows x 4 columns]"
      ]
     },
     "execution_count": 186,
     "metadata": {},
     "output_type": "execute_result"
    }
   ],
   "source": [
    "account_district[columns_to_impute] "
   ]
  },
  {
   "cell_type": "code",
   "execution_count": 189,
   "metadata": {},
   "outputs": [
    {
     "data": {
      "text/plain": [
       "account_id                           0\n",
       "district_id                          0\n",
       "frequency                            0\n",
       "date                                 0\n",
       "district_code                     1282\n",
       "district_name                     1282\n",
       "region                            1282\n",
       "population                           0\n",
       "no_of_municipalities_lt_499       1282\n",
       "no_of_municipalities_500_1999     1282\n",
       "no_of_municipalities_2000_9999    1282\n",
       "no_of_municipalities_gt_10000     1282\n",
       "no_of_cities                      1282\n",
       "ratio_of_urban_inhabitants        1282\n",
       "average_salary                       0\n",
       "no_of_entrepreneurs_per_1000      1282\n",
       "num_committed_crimes                 0\n",
       "unemployment_rate                    0\n",
       "dtype: int64"
      ]
     },
     "execution_count": 189,
     "metadata": {},
     "output_type": "execute_result"
    }
   ],
   "source": [
    "account_district.isna().sum()"
   ]
  },
  {
   "cell_type": "markdown",
   "metadata": {},
   "source": [
    "Use fillna method to impute the missing data in columns district_name and region with 'UNKNOWN'"
   ]
  },
  {
   "cell_type": "code",
   "execution_count": 192,
   "metadata": {},
   "outputs": [],
   "source": [
    "account_district[['district_name', 'region']] = account_district[['district_name', 'region']].fillna('UNKNOWN')\n"
   ]
  },
  {
   "cell_type": "code",
   "execution_count": 193,
   "metadata": {},
   "outputs": [
    {
     "data": {
      "text/plain": [
       "account_id                           0\n",
       "district_id                          0\n",
       "frequency                            0\n",
       "date                                 0\n",
       "district_code                     1282\n",
       "district_name                        0\n",
       "region                               0\n",
       "population                           0\n",
       "no_of_municipalities_lt_499       1282\n",
       "no_of_municipalities_500_1999     1282\n",
       "no_of_municipalities_2000_9999    1282\n",
       "no_of_municipalities_gt_10000     1282\n",
       "no_of_cities                      1282\n",
       "ratio_of_urban_inhabitants        1282\n",
       "average_salary                       0\n",
       "no_of_entrepreneurs_per_1000      1282\n",
       "num_committed_crimes                 0\n",
       "unemployment_rate                    0\n",
       "dtype: int64"
      ]
     },
     "execution_count": 193,
     "metadata": {},
     "output_type": "execute_result"
    }
   ],
   "source": [
    "account_district.isna().sum()"
   ]
  },
  {
   "cell_type": "markdown",
   "metadata": {},
   "source": [
    "15. Merge (left join) trans and account_district into a new DataFrame called a11_data using their common columns"
   ]
  },
  {
   "cell_type": "code",
   "execution_count": 195,
   "metadata": {},
   "outputs": [
    {
     "name": "stdout",
     "output_type": "stream",
     "text": [
      "<class 'pandas.core.frame.DataFrame'>\n",
      "RangeIndex: 1056320 entries, 0 to 1056319\n",
      "Data columns (total 10 columns):\n",
      " #   Column      Non-Null Count    Dtype         \n",
      "---  ------      --------------    -----         \n",
      " 0   trans_id    1056320 non-null  int64         \n",
      " 1   account_id  1056320 non-null  int64         \n",
      " 2   date        1056320 non-null  datetime64[ns]\n",
      " 3   type        1056320 non-null  object        \n",
      " 4   operation   1056320 non-null  object        \n",
      " 5   amount      1056320 non-null  float64       \n",
      " 6   balance     1056320 non-null  float64       \n",
      " 7   k_symbol    1056320 non-null  object        \n",
      " 8   bank        1056320 non-null  object        \n",
      " 9   account     1056320 non-null  float64       \n",
      "dtypes: datetime64[ns](1), float64(3), int64(2), object(4)\n",
      "memory usage: 80.6+ MB\n"
     ]
    }
   ],
   "source": [
    "trans.info()"
   ]
  },
  {
   "cell_type": "code",
   "execution_count": 207,
   "metadata": {},
   "outputs": [],
   "source": [
    "all_data_new = pd.merge(left=trans,right=account_district,left_on='account_id',right_on='account_id',how='left')"
   ]
  },
  {
   "cell_type": "markdown",
   "metadata": {},
   "source": [
    "Check the information summary of all_data"
   ]
  },
  {
   "cell_type": "code",
   "execution_count": 208,
   "metadata": {},
   "outputs": [
    {
     "name": "stdout",
     "output_type": "stream",
     "text": [
      "<class 'pandas.core.frame.DataFrame'>\n",
      "Int64Index: 1056320 entries, 0 to 1056319\n",
      "Data columns (total 27 columns):\n",
      " #   Column                          Non-Null Count    Dtype         \n",
      "---  ------                          --------------    -----         \n",
      " 0   trans_id                        1056320 non-null  int64         \n",
      " 1   account_id                      1056320 non-null  int64         \n",
      " 2   date_x                          1056320 non-null  datetime64[ns]\n",
      " 3   type                            1056320 non-null  object        \n",
      " 4   operation                       1056320 non-null  object        \n",
      " 5   amount                          1056320 non-null  float64       \n",
      " 6   balance                         1056320 non-null  float64       \n",
      " 7   k_symbol                        1056320 non-null  object        \n",
      " 8   bank                            1056320 non-null  object        \n",
      " 9   account                         1056320 non-null  float64       \n",
      " 10  district_id                     1056320 non-null  int64         \n",
      " 11  frequency                       1056320 non-null  object        \n",
      " 12  date_y                          1056320 non-null  datetime64[ns]\n",
      " 13  district_code                   751524 non-null   float64       \n",
      " 14  district_name                   1056320 non-null  object        \n",
      " 15  region                          1056320 non-null  object        \n",
      " 16  population                      1056320 non-null  float64       \n",
      " 17  no_of_municipalities_lt_499     751524 non-null   float64       \n",
      " 18  no_of_municipalities_500_1999   751524 non-null   float64       \n",
      " 19  no_of_municipalities_2000_9999  751524 non-null   float64       \n",
      " 20  no_of_municipalities_gt_10000   751524 non-null   float64       \n",
      " 21  no_of_cities                    751524 non-null   float64       \n",
      " 22  ratio_of_urban_inhabitants      751524 non-null   float64       \n",
      " 23  average_salary                  1056320 non-null  float64       \n",
      " 24  no_of_entrepreneurs_per_1000    751524 non-null   float64       \n",
      " 25  num_committed_crimes            1056320 non-null  float64       \n",
      " 26  unemployment_rate               1056320 non-null  float64       \n",
      "dtypes: datetime64[ns](2), float64(15), int64(3), object(7)\n",
      "memory usage: 225.7+ MB\n"
     ]
    }
   ],
   "source": [
    "all_data_new.info()"
   ]
  },
  {
   "cell_type": "markdown",
   "metadata": {},
   "source": [
    "16. Create a new column account_open_year and assign it as the year from column account_open_date"
   ]
  },
  {
   "cell_type": "code",
   "execution_count": 209,
   "metadata": {},
   "outputs": [],
   "source": [
    "all_data_new.rename(columns={'date_x':'transaction_date','date_y':'account_open_date'},inplace=True)"
   ]
  },
  {
   "cell_type": "code",
   "execution_count": 210,
   "metadata": {},
   "outputs": [],
   "source": [
    "all_data_new['account_open_year'] = all_data_new['account_open_date'].dt.year"
   ]
  },
  {
   "cell_type": "code",
   "execution_count": 211,
   "metadata": {},
   "outputs": [
    {
     "data": {
      "text/plain": [
       "Index(['trans_id', 'account_id', 'transaction_date', 'type', 'operation',\n",
       "       'amount', 'balance', 'k_symbol', 'bank', 'account', 'district_id',\n",
       "       'frequency', 'account_open_date', 'district_code', 'district_name',\n",
       "       'region', 'population', 'no_of_municipalities_lt_499',\n",
       "       'no_of_municipalities_500_1999', 'no_of_municipalities_2000_9999',\n",
       "       'no_of_municipalities_gt_10000', 'no_of_cities',\n",
       "       'ratio_of_urban_inhabitants', 'average_salary',\n",
       "       'no_of_entrepreneurs_per_1000', 'num_committed_crimes',\n",
       "       'unemployment_rate', 'account_open_year'],\n",
       "      dtype='object')"
      ]
     },
     "execution_count": 211,
     "metadata": {},
     "output_type": "execute_result"
    }
   ],
   "source": [
    "all_data_new.columns"
   ]
  },
  {
   "cell_type": "markdown",
   "metadata": {},
   "source": [
    "17. Calculate the difference between columns date (transaction date) and account_open_date"
   ]
  },
  {
   "cell_type": "code",
   "execution_count": 212,
   "metadata": {},
   "outputs": [],
   "source": [
    "all_data_new['transaction_date'] = pd.to_datetime(all_data_new['transaction_date'])\n",
    "all_data_new['account_open_date'] = pd.to_datetime(all_data_new['account_open_date'])"
   ]
  },
  {
   "cell_type": "code",
   "execution_count": 220,
   "metadata": {},
   "outputs": [],
   "source": [
    "all_data_new['date_account_open_diff'] = (all_data_new['transaction_date'] - all_data_new['account_open_date'] ).dt.days\n",
    "\n",
    "# to get week difference divide by 7 (floor division // )\n",
    "# to get year difference divide by 365 (floor division // )"
   ]
  },
  {
   "cell_type": "code",
   "execution_count": 221,
   "metadata": {},
   "outputs": [
    {
     "data": {
      "text/html": [
       "<div>\n",
       "<style scoped>\n",
       "    .dataframe tbody tr th:only-of-type {\n",
       "        vertical-align: middle;\n",
       "    }\n",
       "\n",
       "    .dataframe tbody tr th {\n",
       "        vertical-align: top;\n",
       "    }\n",
       "\n",
       "    .dataframe thead th {\n",
       "        text-align: right;\n",
       "    }\n",
       "</style>\n",
       "<table border=\"1\" class=\"dataframe\">\n",
       "  <thead>\n",
       "    <tr style=\"text-align: right;\">\n",
       "      <th></th>\n",
       "      <th>transaction_date</th>\n",
       "      <th>account_open_date</th>\n",
       "      <th>date_account_open_diff</th>\n",
       "    </tr>\n",
       "  </thead>\n",
       "  <tbody>\n",
       "    <tr>\n",
       "      <th>0</th>\n",
       "      <td>1993-01-01</td>\n",
       "      <td>1993-01-01</td>\n",
       "      <td>0</td>\n",
       "    </tr>\n",
       "    <tr>\n",
       "      <th>1</th>\n",
       "      <td>1993-01-01</td>\n",
       "      <td>1993-01-01</td>\n",
       "      <td>0</td>\n",
       "    </tr>\n",
       "    <tr>\n",
       "      <th>2</th>\n",
       "      <td>1993-01-01</td>\n",
       "      <td>1993-01-01</td>\n",
       "      <td>0</td>\n",
       "    </tr>\n",
       "    <tr>\n",
       "      <th>3</th>\n",
       "      <td>1993-01-01</td>\n",
       "      <td>1993-01-01</td>\n",
       "      <td>0</td>\n",
       "    </tr>\n",
       "    <tr>\n",
       "      <th>4</th>\n",
       "      <td>1993-01-02</td>\n",
       "      <td>1993-01-02</td>\n",
       "      <td>0</td>\n",
       "    </tr>\n",
       "    <tr>\n",
       "      <th>...</th>\n",
       "      <td>...</td>\n",
       "      <td>...</td>\n",
       "      <td>...</td>\n",
       "    </tr>\n",
       "    <tr>\n",
       "      <th>1056315</th>\n",
       "      <td>1998-12-31</td>\n",
       "      <td>1996-09-20</td>\n",
       "      <td>832</td>\n",
       "    </tr>\n",
       "    <tr>\n",
       "      <th>1056316</th>\n",
       "      <td>1998-12-31</td>\n",
       "      <td>1995-05-15</td>\n",
       "      <td>1326</td>\n",
       "    </tr>\n",
       "    <tr>\n",
       "      <th>1056317</th>\n",
       "      <td>1998-12-31</td>\n",
       "      <td>1996-09-27</td>\n",
       "      <td>825</td>\n",
       "    </tr>\n",
       "    <tr>\n",
       "      <th>1056318</th>\n",
       "      <td>1998-12-31</td>\n",
       "      <td>1993-09-09</td>\n",
       "      <td>1939</td>\n",
       "    </tr>\n",
       "    <tr>\n",
       "      <th>1056319</th>\n",
       "      <td>1998-12-31</td>\n",
       "      <td>1993-01-28</td>\n",
       "      <td>2163</td>\n",
       "    </tr>\n",
       "  </tbody>\n",
       "</table>\n",
       "<p>1056320 rows × 3 columns</p>\n",
       "</div>"
      ],
      "text/plain": [
       "        transaction_date account_open_date  date_account_open_diff\n",
       "0             1993-01-01        1993-01-01                       0\n",
       "1             1993-01-01        1993-01-01                       0\n",
       "2             1993-01-01        1993-01-01                       0\n",
       "3             1993-01-01        1993-01-01                       0\n",
       "4             1993-01-02        1993-01-02                       0\n",
       "...                  ...               ...                     ...\n",
       "1056315       1998-12-31        1996-09-20                     832\n",
       "1056316       1998-12-31        1995-05-15                    1326\n",
       "1056317       1998-12-31        1996-09-27                     825\n",
       "1056318       1998-12-31        1993-09-09                    1939\n",
       "1056319       1998-12-31        1993-01-28                    2163\n",
       "\n",
       "[1056320 rows x 3 columns]"
      ]
     },
     "execution_count": 221,
     "metadata": {},
     "output_type": "execute_result"
    }
   ],
   "source": [
    "all_data_new[['transaction_date','account_open_date','date_account_open_diff']]"
   ]
  },
  {
   "cell_type": "markdown",
   "metadata": {},
   "source": [
    "18. Create a new column account_age_days and assign it as the difference in days between columns date (transaction date) and account_open_date"
   ]
  },
  {
   "cell_type": "code",
   "execution_count": 223,
   "metadata": {},
   "outputs": [],
   "source": [
    "all_data_new['account_age_days'] = ((all_data_new['transaction_date'] - all_data_new['account_open_date'] ).dt.days)"
   ]
  },
  {
   "cell_type": "markdown",
   "metadata": {},
   "source": [
    "19. Create a new column amount_category by cutting the column amount into 3 equal-sized bins, and label the bins as \"low_amount', 'medium_amount', 'high_amount'"
   ]
  },
  {
   "cell_type": "code",
   "execution_count": 225,
   "metadata": {},
   "outputs": [],
   "source": [
    "all_data_new['amount_category'] = pd.cut(all_data_new['amount'],bins=3,labels=['low_amount', 'medium_amount', 'high_amount'])"
   ]
  },
  {
   "cell_type": "markdown",
   "metadata": {},
   "source": [
    "Verify the categories and their counts in amount_category"
   ]
  },
  {
   "cell_type": "code",
   "execution_count": 226,
   "metadata": {},
   "outputs": [
    {
     "data": {
      "text/plain": [
       "low_amount       1013033\n",
       "medium_amount      41336\n",
       "high_amount         1951\n",
       "Name: amount_category, dtype: int64"
      ]
     },
     "execution_count": 226,
     "metadata": {},
     "output_type": "execute_result"
    }
   ],
   "source": [
    "all_data_new['amount_category'].value_counts()"
   ]
  },
  {
   "cell_type": "markdown",
   "metadata": {},
   "source": [
    "20. Create a new column account_age_days_category by cutting the column account_age_days into 5 equal-width bins"
   ]
  },
  {
   "cell_type": "code",
   "execution_count": 232,
   "metadata": {},
   "outputs": [
    {
     "name": "stdout",
     "output_type": "stream",
     "text": [
      "         account_age_days account_age_days_category\n",
      "1056315               832                 2-3 Years\n",
      "1056316              1326                 3-4 Years\n",
      "1056317               825                 2-3 Years\n",
      "1056318              1939                  4+ Years\n",
      "1056319              2163                  4+ Years\n"
     ]
    }
   ],
   "source": [
    "\n",
    "# Assuming you have a DataFrame named 'df' with 'account_age_days' column\n",
    "# Define the bin edges and labels\n",
    "bin_edges = [0, 365, 730, 1095, 1460, float('inf')]  # Define the bin edges in days\n",
    "bin_labels = ['< 1 Year', '1-2 Years', '2-3 Years', '3-4 Years', '4+ Years']  # Labels for the bins\n",
    "\n",
    "# Use pd.cut() to create the new column\n",
    "all_data_new['account_age_days_category'] = pd.cut(all_data_new['account_age_days'], bins=bin_edges, labels=bin_labels)\n",
    "\n",
    "# Print the first few rows to verify\n",
    "print(all_data_new[['account_age_days', 'account_age_days_category']].tail())\n"
   ]
  },
  {
   "cell_type": "code",
   "execution_count": 233,
   "metadata": {},
   "outputs": [
    {
     "data": {
      "text/html": [
       "<div>\n",
       "<style scoped>\n",
       "    .dataframe tbody tr th:only-of-type {\n",
       "        vertical-align: middle;\n",
       "    }\n",
       "\n",
       "    .dataframe tbody tr th {\n",
       "        vertical-align: top;\n",
       "    }\n",
       "\n",
       "    .dataframe thead th {\n",
       "        text-align: right;\n",
       "    }\n",
       "</style>\n",
       "<table border=\"1\" class=\"dataframe\">\n",
       "  <thead>\n",
       "    <tr style=\"text-align: right;\">\n",
       "      <th></th>\n",
       "      <th>trans_id</th>\n",
       "      <th>account_id</th>\n",
       "      <th>transaction_date</th>\n",
       "      <th>type</th>\n",
       "      <th>operation</th>\n",
       "      <th>amount</th>\n",
       "      <th>balance</th>\n",
       "      <th>k_symbol</th>\n",
       "      <th>bank</th>\n",
       "      <th>account</th>\n",
       "      <th>...</th>\n",
       "      <th>ratio_of_urban_inhabitants</th>\n",
       "      <th>average_salary</th>\n",
       "      <th>no_of_entrepreneurs_per_1000</th>\n",
       "      <th>num_committed_crimes</th>\n",
       "      <th>unemployment_rate</th>\n",
       "      <th>account_open_year</th>\n",
       "      <th>date_account_open_diff</th>\n",
       "      <th>account_age_days</th>\n",
       "      <th>amount_category</th>\n",
       "      <th>account_age_days_category</th>\n",
       "    </tr>\n",
       "  </thead>\n",
       "  <tbody>\n",
       "    <tr>\n",
       "      <th>0</th>\n",
       "      <td>695247</td>\n",
       "      <td>2378</td>\n",
       "      <td>1993-01-01</td>\n",
       "      <td>PRIJEM</td>\n",
       "      <td>VKLAD</td>\n",
       "      <td>700.0</td>\n",
       "      <td>700.0</td>\n",
       "      <td>UNKNOWN</td>\n",
       "      <td>UNKNOWN</td>\n",
       "      <td>-999.0</td>\n",
       "      <td>...</td>\n",
       "      <td>56.9</td>\n",
       "      <td>8427.000000</td>\n",
       "      <td>107.0</td>\n",
       "      <td>3787.000000</td>\n",
       "      <td>2.66000</td>\n",
       "      <td>1993</td>\n",
       "      <td>0</td>\n",
       "      <td>0</td>\n",
       "      <td>low_amount</td>\n",
       "      <td>NaN</td>\n",
       "    </tr>\n",
       "    <tr>\n",
       "      <th>1</th>\n",
       "      <td>171812</td>\n",
       "      <td>576</td>\n",
       "      <td>1993-01-01</td>\n",
       "      <td>PRIJEM</td>\n",
       "      <td>VKLAD</td>\n",
       "      <td>900.0</td>\n",
       "      <td>900.0</td>\n",
       "      <td>UNKNOWN</td>\n",
       "      <td>UNKNOWN</td>\n",
       "      <td>-999.0</td>\n",
       "      <td>...</td>\n",
       "      <td>33.9</td>\n",
       "      <td>8743.000000</td>\n",
       "      <td>111.0</td>\n",
       "      <td>7553.000000</td>\n",
       "      <td>4.31000</td>\n",
       "      <td>1993</td>\n",
       "      <td>0</td>\n",
       "      <td>0</td>\n",
       "      <td>low_amount</td>\n",
       "      <td>NaN</td>\n",
       "    </tr>\n",
       "    <tr>\n",
       "      <th>2</th>\n",
       "      <td>207264</td>\n",
       "      <td>704</td>\n",
       "      <td>1993-01-01</td>\n",
       "      <td>PRIJEM</td>\n",
       "      <td>VKLAD</td>\n",
       "      <td>1000.0</td>\n",
       "      <td>1000.0</td>\n",
       "      <td>UNKNOWN</td>\n",
       "      <td>UNKNOWN</td>\n",
       "      <td>-999.0</td>\n",
       "      <td>...</td>\n",
       "      <td>33.9</td>\n",
       "      <td>8743.000000</td>\n",
       "      <td>111.0</td>\n",
       "      <td>7553.000000</td>\n",
       "      <td>4.31000</td>\n",
       "      <td>1993</td>\n",
       "      <td>0</td>\n",
       "      <td>0</td>\n",
       "      <td>low_amount</td>\n",
       "      <td>NaN</td>\n",
       "    </tr>\n",
       "    <tr>\n",
       "      <th>3</th>\n",
       "      <td>1117247</td>\n",
       "      <td>3818</td>\n",
       "      <td>1993-01-01</td>\n",
       "      <td>PRIJEM</td>\n",
       "      <td>VKLAD</td>\n",
       "      <td>600.0</td>\n",
       "      <td>600.0</td>\n",
       "      <td>UNKNOWN</td>\n",
       "      <td>UNKNOWN</td>\n",
       "      <td>-999.0</td>\n",
       "      <td>...</td>\n",
       "      <td>NaN</td>\n",
       "      <td>8843.481976</td>\n",
       "      <td>NaN</td>\n",
       "      <td>6150.452144</td>\n",
       "      <td>6.67899</td>\n",
       "      <td>1993</td>\n",
       "      <td>0</td>\n",
       "      <td>0</td>\n",
       "      <td>low_amount</td>\n",
       "      <td>NaN</td>\n",
       "    </tr>\n",
       "    <tr>\n",
       "      <th>4</th>\n",
       "      <td>579373</td>\n",
       "      <td>1972</td>\n",
       "      <td>1993-01-02</td>\n",
       "      <td>PRIJEM</td>\n",
       "      <td>VKLAD</td>\n",
       "      <td>400.0</td>\n",
       "      <td>400.0</td>\n",
       "      <td>UNKNOWN</td>\n",
       "      <td>UNKNOWN</td>\n",
       "      <td>-999.0</td>\n",
       "      <td>...</td>\n",
       "      <td>53.5</td>\n",
       "      <td>8909.000000</td>\n",
       "      <td>113.0</td>\n",
       "      <td>7050.000000</td>\n",
       "      <td>9.57000</td>\n",
       "      <td>1993</td>\n",
       "      <td>0</td>\n",
       "      <td>0</td>\n",
       "      <td>low_amount</td>\n",
       "      <td>NaN</td>\n",
       "    </tr>\n",
       "  </tbody>\n",
       "</table>\n",
       "<p>5 rows × 32 columns</p>\n",
       "</div>"
      ],
      "text/plain": [
       "   trans_id  account_id transaction_date    type operation  amount  balance  \\\n",
       "0    695247        2378       1993-01-01  PRIJEM     VKLAD   700.0    700.0   \n",
       "1    171812         576       1993-01-01  PRIJEM     VKLAD   900.0    900.0   \n",
       "2    207264         704       1993-01-01  PRIJEM     VKLAD  1000.0   1000.0   \n",
       "3   1117247        3818       1993-01-01  PRIJEM     VKLAD   600.0    600.0   \n",
       "4    579373        1972       1993-01-02  PRIJEM     VKLAD   400.0    400.0   \n",
       "\n",
       "  k_symbol     bank  account  ...  ratio_of_urban_inhabitants average_salary  \\\n",
       "0  UNKNOWN  UNKNOWN   -999.0  ...                        56.9    8427.000000   \n",
       "1  UNKNOWN  UNKNOWN   -999.0  ...                        33.9    8743.000000   \n",
       "2  UNKNOWN  UNKNOWN   -999.0  ...                        33.9    8743.000000   \n",
       "3  UNKNOWN  UNKNOWN   -999.0  ...                         NaN    8843.481976   \n",
       "4  UNKNOWN  UNKNOWN   -999.0  ...                        53.5    8909.000000   \n",
       "\n",
       "  no_of_entrepreneurs_per_1000  num_committed_crimes unemployment_rate  \\\n",
       "0                        107.0           3787.000000           2.66000   \n",
       "1                        111.0           7553.000000           4.31000   \n",
       "2                        111.0           7553.000000           4.31000   \n",
       "3                          NaN           6150.452144           6.67899   \n",
       "4                        113.0           7050.000000           9.57000   \n",
       "\n",
       "  account_open_year  date_account_open_diff  account_age_days  \\\n",
       "0              1993                       0                 0   \n",
       "1              1993                       0                 0   \n",
       "2              1993                       0                 0   \n",
       "3              1993                       0                 0   \n",
       "4              1993                       0                 0   \n",
       "\n",
       "   amount_category  account_age_days_category  \n",
       "0       low_amount                        NaN  \n",
       "1       low_amount                        NaN  \n",
       "2       low_amount                        NaN  \n",
       "3       low_amount                        NaN  \n",
       "4       low_amount                        NaN  \n",
       "\n",
       "[5 rows x 32 columns]"
      ]
     },
     "execution_count": 233,
     "metadata": {},
     "output_type": "execute_result"
    }
   ],
   "source": [
    "all_data_new.head()"
   ]
  },
  {
   "cell_type": "code",
   "execution_count": 229,
   "metadata": {},
   "outputs": [
    {
     "data": {
      "text/plain": [
       "(438.0, 876.0]      333012\n",
       "(-2.19, 438.0]      330815\n",
       "(876.0, 1314.0]     204014\n",
       "(1314.0, 1752.0]    131926\n",
       "(1752.0, 2190.0]     56553\n",
       "Name: account_age_days_category, dtype: int64"
      ]
     },
     "execution_count": 229,
     "metadata": {},
     "output_type": "execute_result"
    }
   ],
   "source": [
    "all_data_new['account_age_days_category'].value_counts()"
   ]
  }
 ],
 "metadata": {
  "kernelspec": {
   "display_name": "Python 3",
   "language": "python",
   "name": "python3"
  },
  "language_info": {
   "codemirror_mode": {
    "name": "ipython",
    "version": 3
   },
   "file_extension": ".py",
   "mimetype": "text/x-python",
   "name": "python",
   "nbconvert_exporter": "python",
   "pygments_lexer": "ipython3",
   "version": "3.8.0"
  },
  "orig_nbformat": 4
 },
 "nbformat": 4,
 "nbformat_minor": 2
}
